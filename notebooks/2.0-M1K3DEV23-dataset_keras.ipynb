{
 "cells": [
  {
   "cell_type": "markdown",
   "metadata": {},
   "source": [
    "# Keras Datasets\n",
    "\n",
    "El dataset de repaso que veremos será: [CIFAR100 small images classification dataset](https://keras.io/api/datasets/cifar100/) una curiosidad de este dataset es que cuenta con 2 clasificaciones `fine` y `coarse` indicando si quieres clasificar por super clase o por clase. A continuación las siguientes clases disponibles:\n",
    "\n",
    "![DatasetCIFAR100](https://raw.githubusercontent.com/ichcanziho/Deep_Learnining_Platzi/master/3%20Curso%20profesional%20de%20Redes%20Neuronales%20con%20TensorFlow/imgs/2/10.png)\n",
    "\n",
    "|           Superclass           |                        Classes                        |\n",
    "| :----------------------------: | :---------------------------------------------------: |\n",
    "|        aquatic mammals         |          beaver, dolphin, otter, seal, whale          |\n",
    "|              fish              |      aquarium fish, flatfish, ray, shark, trout       |\n",
    "|            flowers             |      orchids, poppies, roses, sunflowers, tulips      |\n",
    "|        food containers         |          bottles, bowls, cans, cups, plates           |\n",
    "|      fruit and vegetables      |   apples, mushrooms, oranges, pears, sweet peppers    |\n",
    "|  household electrical devices  | clock, computer keyboard, lamp, telephone, television |\n",
    "|      household furniture       |          bed, chair, couch, table, wardrobe           |\n",
    "|            insects             |    bee, beetle, butterfly, caterpillar, cockroach     |\n",
    "|        large carnivores        |           bear, leopard, lion, tiger, wolf            |\n",
    "| large man-made outdoor things  |        bridge, castle, house, road, skyscraper        |\n",
    "|  large natural outdoor scenes  |          cloud, forest, mountain, plain, sea          |\n",
    "| large omnivores and herbivores |     camel, cattle, chimpanzee, elephant, kangaroo     |\n",
    "|      medium-sized mammals      |        fox, porcupine, possum, raccoon, skunk         |\n",
    "|    non-insect invertebrates    |          crab, lobster, snail, spider, worm           |\n",
    "|             people             |              baby, boy, girl, man, woman              |\n",
    "|            reptiles            |      crocodile, dinosaur, lizard, snake, turtle       |\n",
    "|         small mammals          |        hamster, mouse, rabbit, shrew, squirrel        |\n",
    "|             trees              |            maple, oak, palm, pine, willow             |\n",
    "|           vehicles 1           |     bicycle, bus, motorcycle, pickup truck, train     |\n",
    "|           vehicles 2           |     lawn-mower, rocket, streetcar, tank, tractor      |\n"
   ]
  },
  {
   "cell_type": "code",
   "execution_count": 1,
   "metadata": {},
   "outputs": [],
   "source": [
    "%load_ext autoreload\n",
    "%autoreload 3"
   ]
  },
  {
   "cell_type": "code",
   "execution_count": 2,
   "metadata": {},
   "outputs": [],
   "source": [
    "import os\n",
    "import sys\n",
    "\n",
    "sys.path.append(os.path.dirname(os.path.abspath(os.path.abspath(\"\"))))"
   ]
  },
  {
   "cell_type": "markdown",
   "metadata": {},
   "source": [
    "## 1: Importando bibliotecas\n"
   ]
  },
  {
   "cell_type": "code",
   "execution_count": 3,
   "metadata": {},
   "outputs": [
    {
     "name": "stdout",
     "output_type": "stream",
     "text": [
      "WARNING:tensorflow:From c:\\Users\\mike\\Desktop\\redes_neuronales_tf\\venv\\Lib\\site-packages\\keras\\src\\losses.py:2976: The name tf.losses.sparse_softmax_cross_entropy is deprecated. Please use tf.compat.v1.losses.sparse_softmax_cross_entropy instead.\n",
      "\n"
     ]
    }
   ],
   "source": [
    "import json\n",
    "\n",
    "import matplotlib.pyplot as plt\n",
    "import tensorflow as tf\n",
    "from tensorflow.keras.datasets import cifar100"
   ]
  },
  {
   "cell_type": "markdown",
   "metadata": {},
   "source": [
    "## 2: Descargando el dataset\n"
   ]
  },
  {
   "cell_type": "code",
   "execution_count": 4,
   "metadata": {},
   "outputs": [],
   "source": [
    "(X_train, y_train), (X_test, y_test) = cifar100.load_data(label_mode=\"fine\")"
   ]
  },
  {
   "cell_type": "code",
   "execution_count": 5,
   "metadata": {},
   "outputs": [
    {
     "name": "stdout",
     "output_type": "stream",
     "text": [
      "(50000, 32, 32, 3)\n",
      "(50000, 1)\n"
     ]
    }
   ],
   "source": [
    "print(X_train.shape)\n",
    "print(y_train.shape)"
   ]
  },
  {
   "cell_type": "markdown",
   "metadata": {},
   "source": [
    "## 3: Obteniendo el nombre de las clases\n"
   ]
  },
  {
   "cell_type": "markdown",
   "metadata": {},
   "source": [
    "Primero debemos descargar el nombre de las clases\n"
   ]
  },
  {
   "cell_type": "code",
   "execution_count": 6,
   "metadata": {},
   "outputs": [],
   "source": [
    "with open(\"../data/labels/cifar100_labels.json\", \"r\", encoding=\"utf-8\") as file_labels:\n",
    "    cifar100_labels = json.load(file_labels)"
   ]
  },
  {
   "cell_type": "markdown",
   "metadata": {},
   "source": [
    "## 4: Inspeccionando el dataset\n"
   ]
  },
  {
   "cell_type": "code",
   "execution_count": 13,
   "metadata": {},
   "outputs": [
    {
     "data": {
      "image/png": "[encoded data removed]",
      "text/plain": [
       "<Figure size 640x480 with 1 Axes>"
      ]
     },
     "metadata": {},
     "output_type": "display_data"
    }
   ],
   "source": [
    "num_image = 50\n",
    "y = y_train[num_image][0]\n",
    "X = X_train[num_image]\n",
    "y_name = cifar100_labels[y]\n",
    "plt.imshow(X)\n",
    "plt.xticks([])\n",
    "plt.yticks([])\n",
    "title = f\"Class: {y_name} - Id Class: {y}\"\n",
    "plt.title(title)\n",
    "plt.show()"
   ]
  }
 ],
 "metadata": {
  "kernelspec": {
   "display_name": "template",
   "language": "python",
   "name": "python3"
  },
  "language_info": {
   "codemirror_mode": {
    "name": "ipython",
    "version": 3
   },
   "file_extension": ".py",
   "mimetype": "text/x-python",
   "name": "python",
   "nbconvert_exporter": "python",
   "pygments_lexer": "ipython3",
   "version": "3.11.8"
  }
 },
 "nbformat": 4,
 "nbformat_minor": 2
}
