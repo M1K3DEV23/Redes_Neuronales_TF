{
 "cells": [
  {
   "cell_type": "markdown",
   "metadata": {},
   "source": [
    "# Proyecto\n"
   ]
  },
  {
   "cell_type": "code",
   "execution_count": null,
   "metadata": {},
   "outputs": [],
   "source": [
    "%load_ext autoreload\n",
    "%autoreload 3"
   ]
  },
  {
   "cell_type": "code",
   "execution_count": 1,
   "metadata": {},
   "outputs": [],
   "source": [
    "import os\n",
    "import sys\n",
    "\n",
    "sys.path.append(os.path.dirname(os.path.abspath(os.path.abspath(\"\"))))"
   ]
  },
  {
   "cell_type": "markdown",
   "metadata": {},
   "source": [
    "## 1: Importando bibliotecas\n"
   ]
  },
  {
   "cell_type": "code",
   "execution_count": 26,
   "metadata": {},
   "outputs": [],
   "source": [
    "import matplotlib.pyplot as plt\n",
    "from keras import Sequential\n",
    "from keras.layers import Dense, Flatten, Dropout, Conv2D, MaxPool2D\n",
    "from keras.preprocessing.image import ImageDataGenerator\n",
    "from keras import regularizers\n",
    "from keras.callbacks import Callback, EarlyStopping, ModelCheckpoint"
   ]
  },
  {
   "cell_type": "markdown",
   "metadata": {},
   "source": [
    "## 2: Creando nuestros ImageDataGenerators\n",
    "\n",
    "Para este punto de la clase NO hemos hablado de `Data Augmentation` cosa que si has tomado este repositorio completo entonces ya debes conocer y entender. Ahora lo único que vamos a hacer es utilizar el `ImageDataGenerator` para normalizar las imágenes y esta clase nos permita generar un objeto con el método `frow_from_directory`\n",
    "\n",
    "Nota: Algo interesante es que del test_dataget también vamos a construir el validation test, por haber definido el parámetro validation_split\n"
   ]
  },
  {
   "cell_type": "code",
   "execution_count": 3,
   "metadata": {},
   "outputs": [],
   "source": [
    "train_dir = \"../data/rice_dataset/Train\"\n",
    "test_dir = \"../data/rice_dataset/Test\"\n",
    "val_dir = \"../data/rice_dataset/Validation\""
   ]
  },
  {
   "cell_type": "code",
   "execution_count": 4,
   "metadata": {},
   "outputs": [],
   "source": [
    "train_datagen = ImageDataGenerator(rescale=1 / 255)\n",
    "test_datagen = ImageDataGenerator(rescale=1 / 255)\n",
    "val_datagen = ImageDataGenerator(rescale=1 / 255, validation_split=0.3)"
   ]
  },
  {
   "cell_type": "markdown",
   "metadata": {},
   "source": [
    "## 3: Creamos nuestros generadores de imágenes, para los conjuntos de train, validation y test\n"
   ]
  },
  {
   "cell_type": "code",
   "execution_count": 5,
   "metadata": {},
   "outputs": [
    {
     "name": "stdout",
     "output_type": "stream",
     "text": [
      "Found 50000 images belonging to 5 classes.\n",
      "Found 3750 images belonging to 5 classes.\n",
      "Found 12500 images belonging to 5 classes.\n"
     ]
    }
   ],
   "source": [
    "train_generator = train_datagen.flow_from_directory(\n",
    "    train_dir,\n",
    "    target_size=(28, 28),\n",
    "    batch_size=64,\n",
    "    class_mode=\"categorical\",\n",
    "    color_mode=\"grayscale\",\n",
    "    subset=\"training\",\n",
    ")\n",
    "\n",
    "validation_generator = val_datagen.flow_from_directory(\n",
    "    val_dir,\n",
    "    target_size=(28, 28),\n",
    "    batch_size=64,\n",
    "    class_mode=\"categorical\",\n",
    "    color_mode=\"grayscale\",\n",
    "    subset=\"validation\",\n",
    ")\n",
    "\n",
    "\n",
    "test_generator = test_datagen.flow_from_directory(\n",
    "    test_dir,\n",
    "    target_size=(28, 28),\n",
    "    batch_size=64,\n",
    "    class_mode=\"categorical\",\n",
    "    color_mode=\"grayscale\",\n",
    ")"
   ]
  },
  {
   "cell_type": "markdown",
   "metadata": {},
   "source": [
    "## 4: Generando el nombre de las clases\n",
    "\n",
    "Sabemos que las clases están en label_encoding entonces hace falta definir el nombre de las labels de la siguiente manera\n"
   ]
  },
  {
   "cell_type": "code",
   "execution_count": 6,
   "metadata": {},
   "outputs": [
    {
     "name": "stdout",
     "output_type": "stream",
     "text": [
      "Classes:  ['Arborio', 'Basmati', 'Ipsala', 'Jasmine', 'Karacadag']\n"
     ]
    }
   ],
   "source": [
    "classes = [\"Arborio\", \"Basmati\", \"Ipsala\", \"Jasmine\", \"Karacadag\"]\n",
    "\n",
    "print(\"Classes: \", classes)"
   ]
  },
  {
   "cell_type": "markdown",
   "metadata": {},
   "source": [
    "## 5: Muestra de entrenamiento\n"
   ]
  },
  {
   "cell_type": "markdown",
   "metadata": {},
   "source": [
    "Definimos una función auxiliar para mostrar imágenes:\n"
   ]
  },
  {
   "cell_type": "code",
   "execution_count": 7,
   "metadata": {},
   "outputs": [],
   "source": [
    "def plot_images(images_arr):\n",
    "    fig, axes = plt.subplots(1, 5, figsize=(10, 10))\n",
    "    axes = axes.flatten()\n",
    "\n",
    "    for img, ax in zip(images_arr, axes):\n",
    "        ax.imshow(img[:, :, 0], cmap=\"gray\")\n",
    "        ax.axis(\"off\")\n",
    "\n",
    "    plt.tight_layout()\n",
    "    plt.show()"
   ]
  },
  {
   "cell_type": "markdown",
   "metadata": {},
   "source": [
    "Generamos una muestra de 5 imágenes de nuestro `train_generator`\n"
   ]
  },
  {
   "cell_type": "code",
   "execution_count": 8,
   "metadata": {},
   "outputs": [
    {
     "data": {
      "image/png": "[encoded data removed]",
      "text/plain": [
       "<Figure size 1000x1000 with 5 Axes>"
      ]
     },
     "metadata": {},
     "output_type": "display_data"
    }
   ],
   "source": [
    "sample_trainnig_images, _ = next(train_generator)\n",
    "plot_images(sample_trainnig_images[:5])"
   ]
  },
  {
   "cell_type": "markdown",
   "metadata": {},
   "source": [
    "# Crear la red neuronal, definir capas, compilar, entrenar, evaluar y predicciones\n",
    "\n",
    "Este será nuestra primera aproximación a resolver el problema de clasificación de aroz\n"
   ]
  },
  {
   "cell_type": "code",
   "execution_count": 9,
   "metadata": {},
   "outputs": [],
   "source": [
    "def plot_results(history_, metric):\n",
    "    history_dict = history_.history\n",
    "    loss_values = history_dict[\"loss\"]\n",
    "    val_loss_values = history_dict[\"val_loss\"]\n",
    "    metric_values = history_dict[metric]\n",
    "    val_metric_values = history_dict[f\"val_{metric}\"]\n",
    "\n",
    "    epoch = range(1, len(loss_values) + 1)\n",
    "    fig, ax = plt.subplots(1, 2, figsize=(8, 5))\n",
    "    fig.suptitle(\"Neural Network's Result\")\n",
    "    ax[0].set_title(\"Loss function over epoch\")\n",
    "    ax[0].set(ylabel=\"loss\", xlabel=\"epoch\")\n",
    "    ax[0].plot(epoch, loss_values, \"go-\", label=\"training\")\n",
    "    ax[0].plot(epoch, val_loss_values, \"ro-\", label=\"validation\")\n",
    "    ax[0].legend()\n",
    "\n",
    "    ax[1].set_title(f\"{metric} over epoch\")\n",
    "    ax[1].set(ylabel=metric, xlabel=\"epochs\")\n",
    "    ax[1].plot(epoch, metric_values, \"go-\", label=\"training\")\n",
    "    ax[1].plot(epoch, val_metric_values, \"ro-\", label=\"validation\")\n",
    "    ax[1].legend()\n",
    "    plt.show()"
   ]
  },
  {
   "cell_type": "markdown",
   "metadata": {},
   "source": [
    "## 6: Crear la arquitectura base del modelo\n"
   ]
  },
  {
   "cell_type": "code",
   "execution_count": null,
   "metadata": {},
   "outputs": [],
   "source": [
    "def base_architecture(input_shape: tuple, n_clases: int):\n",
    "    model = Sequential()\n",
    "    model.add(Flatten(input_shape=input_shape))\n",
    "    model.add(Dense(256, activation=\"relu\"))\n",
    "    model.add(Dense(128, activation=\"relu\"))\n",
    "    model.add(Dense(n_clases, activation=\"softmax\"))\n",
    "    print(model.summary())\n",
    "    return model"
   ]
  },
  {
   "cell_type": "markdown",
   "metadata": {},
   "source": [
    "Llamamos a nuestra función auxiliar en nuestro ciclo principal.\n"
   ]
  },
  {
   "cell_type": "code",
   "execution_count": null,
   "metadata": {},
   "outputs": [],
   "source": [
    "base_model = base_architecture(input_shape=(28, 28, 1), n_clases=len(classes))"
   ]
  },
  {
   "cell_type": "markdown",
   "metadata": {},
   "source": [
    "## 7: Compilamos el modelo\n"
   ]
  },
  {
   "cell_type": "code",
   "execution_count": null,
   "metadata": {},
   "outputs": [],
   "source": [
    "base_model.compile(\n",
    "    optimizer=\"adam\", loss=\"categorical_crossentropy\", metrics=\"accuracy\"\n",
    ")"
   ]
  },
  {
   "cell_type": "markdown",
   "metadata": {},
   "source": [
    "Recordemos que como es un problema de clasificación multiple nuestra perdida debe ser: `categorical_crossentropy` y la última capa de clasificación del modelo tendrá 24 neuronas una por cada clase disponible y a su vez esto nos hace necesitar usar `softmax` como función de activación.\n"
   ]
  },
  {
   "cell_type": "markdown",
   "metadata": {},
   "source": [
    "## 8: Entrenamos el modelo\n"
   ]
  },
  {
   "cell_type": "code",
   "execution_count": null,
   "metadata": {},
   "outputs": [],
   "source": [
    "history = base_model.fit(\n",
    "    train_generator, epochs=10, validation_data=validation_generator, batch_size=64\n",
    ")"
   ]
  },
  {
   "cell_type": "markdown",
   "metadata": {},
   "source": [
    "## 9: Análisis de resultados\n"
   ]
  },
  {
   "cell_type": "code",
   "execution_count": null,
   "metadata": {},
   "outputs": [],
   "source": [
    "plot_results(history, \"accuracy\")\n",
    "\n",
    "results = base_model.evaluate(test_generator)"
   ]
  },
  {
   "cell_type": "markdown",
   "metadata": {},
   "source": [
    "Para resumir, la estructura en código de este ejercicio fue:\n"
   ]
  },
  {
   "cell_type": "markdown",
   "metadata": {},
   "source": [
    "Para este momento hemos conseguido un `accuracy` del **97.577%** del modelo\n"
   ]
  },
  {
   "cell_type": "markdown",
   "metadata": {},
   "source": [
    "La estructura de código de esta clase se mantiene igual a la de la clase anterior, el único cambio relevante es el cambio de la arquitectura base del modelo por una regularizada:\n"
   ]
  },
  {
   "cell_type": "code",
   "execution_count": null,
   "metadata": {},
   "outputs": [],
   "source": [
    "def base_architecture_w_regularizes(input_shape, n_clases):\n",
    "    model = Sequential()\n",
    "    model.add(Flatten(input_shape=input_shape))\n",
    "    model.add(Dense(256, activation=\"relu\", kernel_regularizer=regularizers.l2(1e-5)))\n",
    "    model.add(Dropout(0.2))\n",
    "    model.add(Dense(128, activation=\"relu\", kernel_regularizer=regularizers.l2(1e-5)))\n",
    "    model.add(Dropout(0.2))\n",
    "    model.add(Dense(n_clases, activation=\"softmax\"))\n",
    "    print(model.summary())\n",
    "    return model"
   ]
  },
  {
   "cell_type": "code",
   "execution_count": null,
   "metadata": {},
   "outputs": [],
   "source": [
    "regularized_model = base_architecture_w_regularizes(\n",
    "    input_shape=(28, 28, 1), n_clases=len(classes)\n",
    ")"
   ]
  },
  {
   "cell_type": "code",
   "execution_count": null,
   "metadata": {},
   "outputs": [],
   "source": [
    "regularized_model.compile(\n",
    "    optimizer=\"adam\", loss=\"categorical_crossentropy\", metrics=\"accuracy\"\n",
    ")"
   ]
  },
  {
   "cell_type": "code",
   "execution_count": null,
   "metadata": {},
   "outputs": [],
   "source": [
    "history_regularized = regularized_model.fit(\n",
    "    train_generator, epochs=10, validation_data=validation_generator, batch_size=64\n",
    ")"
   ]
  },
  {
   "cell_type": "code",
   "execution_count": null,
   "metadata": {},
   "outputs": [],
   "source": [
    "plot_results(history_regularized, \"accuracy\")\n",
    "\n",
    "results_regularized = regularized_model.evaluate(test_generator)"
   ]
  },
  {
   "cell_type": "code",
   "execution_count": 10,
   "metadata": {},
   "outputs": [],
   "source": [
    "def conv_architecture(input_shape, n_clases):\n",
    "    model = Sequential()\n",
    "    model.add(\n",
    "        Conv2D(\n",
    "            filters=128, kernel_size=(3, 3), activation=\"relu\", input_shape=input_shape\n",
    "        )\n",
    "    )\n",
    "    model.add(MaxPool2D(pool_size=(2, 2)))\n",
    "    model.add(Flatten())\n",
    "    model.add(Dense(256, activation=\"relu\", kernel_regularizer=regularizers.l2(1e-5)))\n",
    "    model.add(Dropout(0.2))\n",
    "    model.add(Dense(128, activation=\"relu\", kernel_regularizer=regularizers.l2(1e-5)))\n",
    "    model.add(Dropout(0.2))\n",
    "    model.add(Dense(n_clases, activation=\"softmax\"))\n",
    "    print(model.summary())\n",
    "    return model"
   ]
  },
  {
   "cell_type": "code",
   "execution_count": 14,
   "metadata": {},
   "outputs": [
    {
     "name": "stdout",
     "output_type": "stream",
     "text": [
      "WARNING:tensorflow:From c:\\Users\\mike\\Desktop\\redes_neuronales_tf\\venv\\Lib\\site-packages\\keras\\src\\backend.py:873: The name tf.get_default_graph is deprecated. Please use tf.compat.v1.get_default_graph instead.\n",
      "\n",
      "WARNING:tensorflow:From c:\\Users\\mike\\Desktop\\redes_neuronales_tf\\venv\\Lib\\site-packages\\keras\\src\\layers\\pooling\\max_pooling2d.py:161: The name tf.nn.max_pool is deprecated. Please use tf.nn.max_pool2d instead.\n",
      "\n",
      "Model: \"sequential\"\n",
      "_________________________________________________________________\n",
      " Layer (type)                Output Shape              Param #   \n",
      "=================================================================\n",
      " conv2d (Conv2D)             (None, 26, 26, 128)       1280      \n",
      "                                                                 \n",
      " max_pooling2d (MaxPooling2  (None, 13, 13, 128)       0         \n",
      " D)                                                              \n",
      "                                                                 \n",
      " flatten (Flatten)           (None, 21632)             0         \n",
      "                                                                 \n",
      " dense (Dense)               (None, 256)               5538048   \n",
      "                                                                 \n",
      " dropout (Dropout)           (None, 256)               0         \n",
      "                                                                 \n",
      " dense_1 (Dense)             (None, 128)               32896     \n",
      "                                                                 \n",
      " dropout_1 (Dropout)         (None, 128)               0         \n",
      "                                                                 \n",
      " dense_2 (Dense)             (None, 5)                 645       \n",
      "                                                                 \n",
      "=================================================================\n",
      "Total params: 5572869 (21.26 MB)\n",
      "Trainable params: 5572869 (21.26 MB)\n",
      "Non-trainable params: 0 (0.00 Byte)\n",
      "_________________________________________________________________\n",
      "None\n"
     ]
    }
   ],
   "source": [
    "conv_model = conv_architecture(input_shape=(28, 28, 1), n_clases=len(classes))"
   ]
  },
  {
   "cell_type": "code",
   "execution_count": 15,
   "metadata": {},
   "outputs": [
    {
     "name": "stdout",
     "output_type": "stream",
     "text": [
      "WARNING:tensorflow:From c:\\Users\\mike\\Desktop\\redes_neuronales_tf\\venv\\Lib\\site-packages\\keras\\src\\optimizers\\__init__.py:309: The name tf.train.Optimizer is deprecated. Please use tf.compat.v1.train.Optimizer instead.\n",
      "\n"
     ]
    }
   ],
   "source": [
    "conv_model.compile(\n",
    "    optimizer=\"adam\", loss=\"categorical_crossentropy\", metrics=\"accuracy\"\n",
    ")"
   ]
  },
  {
   "cell_type": "code",
   "execution_count": null,
   "metadata": {},
   "outputs": [],
   "source": [
    "history_conv = conv_model.fit(\n",
    "    train_generator, epochs=10, validation_data=validation_generator, batch_size=64\n",
    ")"
   ]
  },
  {
   "cell_type": "code",
   "execution_count": null,
   "metadata": {},
   "outputs": [],
   "source": [
    "plot_results(history_conv, \"accuracy\")\n",
    "\n",
    "results_conv = conv_model.evaluate(test_generator)"
   ]
  },
  {
   "cell_type": "markdown",
   "metadata": {},
   "source": [
    "## Métricas para medir la eficiencia de un modelo: Callback\n"
   ]
  },
  {
   "cell_type": "markdown",
   "metadata": {},
   "source": [
    "En este ejemplo vamos a definir un pequeño `Custom Callback`\n",
    "\n",
    "Supongamos que queremos detener el proceso de entrenamiento del modelo cuando el mismo haya logrado alcanzar al menos 80% de accuracy en el set de validación.\n",
    "\n",
    "Lo único que necesitamos hacer es crear una clase que contenga nuestra `CustoCallback`:\n"
   ]
  },
  {
   "cell_type": "code",
   "execution_count": 11,
   "metadata": {},
   "outputs": [],
   "source": [
    "class TrainingCallback(Callback):\n",
    "\n",
    "    def __init__(self, acc_stop):\n",
    "        super().__init__()\n",
    "        self.acc_stop = acc_stop\n",
    "\n",
    "    def on_epoch_end(self, epoch, logs=None):\n",
    "        if logs.get(\"val_accuracy\") > self.acc_stop:\n",
    "            print(f\"Lo hemos logrado! El modelo ha llegado a un {self.acc_stop * 100}%\")\n",
    "            self.model.stop_training = True"
   ]
  },
  {
   "cell_type": "markdown",
   "metadata": {},
   "source": [
    "Existen varios overrides que podemos hacer para crear nuestras Callbacks propias, entre ellas podemos encontrar las siguientes:\n"
   ]
  },
  {
   "cell_type": "code",
   "execution_count": null,
   "metadata": {},
   "outputs": [],
   "source": [
    "from keras.callbacks import Callback\n",
    "\n",
    "\n",
    "class TrainingCallback(Callback):\n",
    "    def on_train_begin(self, logs=None):\n",
    "        print(\"Starting training....\")\n",
    "\n",
    "    def on_epoch_begin(self, epoch, logs=None):\n",
    "        print(\"Starting epoch {}\".format(epoch))\n",
    "\n",
    "    def on_train_batch_begin(self, batch, logs=None):\n",
    "        print(\"Training: Starting batch {}\".format(batch))\n",
    "\n",
    "    def on_train_batch_end(self, batch, logs=None):\n",
    "        print(\"Training: Finished batch {}\".format(batch))\n",
    "\n",
    "    def on_epoch_end(self, epoch, logs=None):\n",
    "        print(\"Finished epoch {}\".format(epoch))\n",
    "\n",
    "    def on_train_end(self, logs=None):\n",
    "        print(\"Finished training!\")\n",
    "\n",
    "\n",
    "class TestingCallback(Callback):\n",
    "    def on_test_begin(self, logs=None):\n",
    "        print(\"Starting testing....\")\n",
    "\n",
    "    def on_test_batch_begin(self, batch, logs=None):\n",
    "        print(\"Testing: Starting batch {}\".format(batch))\n",
    "\n",
    "    def on_test_batch_end(self, batch, logs=None):\n",
    "        print(\"Testing: Finished batch {}\".format(batch))\n",
    "\n",
    "    def on_test_end(self, logs=None):\n",
    "        print(\"Finished testing!\")\n",
    "\n",
    "\n",
    "class PredictionCallback(Callback):\n",
    "    def on_predict_begin(self, logs=None):\n",
    "        print(\"Prediction testing....\")\n",
    "\n",
    "    def on_predict_batch_begin(self, batch, logs=None):\n",
    "        print(\"Prediction: Starting batch {}\".format(batch))\n",
    "\n",
    "    def on_predict_batch_end(self, batch, logs=None):\n",
    "        print(\"Prediction: Finished batch {}\".format(batch))\n",
    "\n",
    "    def on_predict_end(self, logs=None):\n",
    "        print(\"Finished prediction!\")"
   ]
  },
  {
   "cell_type": "code",
   "execution_count": 20,
   "metadata": {},
   "outputs": [],
   "source": [
    "callback_my = TrainingCallback(acc_stop=0.95)"
   ]
  },
  {
   "cell_type": "code",
   "execution_count": 21,
   "metadata": {},
   "outputs": [
    {
     "name": "stdout",
     "output_type": "stream",
     "text": [
      "Epoch 1/20\n",
      "782/782 [==============================] - ETA: 0s - loss: 0.1178 - accuracy: 0.9642Lo hemos logrado! El modelo ha llegado a un 95.0%\n",
      "782/782 [==============================] - 45s 58ms/step - loss: 0.1178 - accuracy: 0.9642 - val_loss: 0.1056 - val_accuracy: 0.9693\n"
     ]
    }
   ],
   "source": [
    "history_conv = conv_model.fit(\n",
    "    train_generator,\n",
    "    epochs=20,\n",
    "    validation_data=validation_generator,\n",
    "    batch_size=64,\n",
    "    callbacks=[callback_my],\n",
    ")"
   ]
  },
  {
   "cell_type": "markdown",
   "metadata": {},
   "source": [
    "Aquí el proceso se ha detenido a pesar de que le hemos pedido que hiciera 10 epochs esto muestra como hemos hecho funcionar correctamente nuestra propuesta de EarlyStop basada en el val_accuracy.\n"
   ]
  },
  {
   "cell_type": "code",
   "execution_count": 22,
   "metadata": {},
   "outputs": [
    {
     "data": {
      "image/png": "[encoded data removed]",
      "text/plain": [
       "<Figure size 800x500 with 2 Axes>"
      ]
     },
     "metadata": {},
     "output_type": "display_data"
    },
    {
     "name": "stdout",
     "output_type": "stream",
     "text": [
      "196/196 [==============================] - 4s 22ms/step - loss: 0.0952 - accuracy: 0.9733\n"
     ]
    }
   ],
   "source": [
    "plot_results(history_conv, \"accuracy\")\n",
    "\n",
    "results_conv = conv_model.evaluate(test_generator)"
   ]
  },
  {
   "cell_type": "markdown",
   "metadata": {},
   "source": [
    "## Monitoreo del entrenamiento en tiempo real: early stopping y patience\n"
   ]
  },
  {
   "cell_type": "code",
   "execution_count": 24,
   "metadata": {},
   "outputs": [
    {
     "name": "stdout",
     "output_type": "stream",
     "text": [
      "Epoch 1/20\n",
      "782/782 [==============================] - 45s 58ms/step - loss: 0.1119 - accuracy: 0.9673 - val_loss: 0.1048 - val_accuracy: 0.9707\n",
      "Epoch 2/20\n",
      "782/782 [==============================] - 44s 56ms/step - loss: 0.1049 - accuracy: 0.9700 - val_loss: 0.1071 - val_accuracy: 0.9717\n",
      "Epoch 3/20\n",
      "782/782 [==============================] - 46s 58ms/step - loss: 0.1009 - accuracy: 0.9723 - val_loss: 0.1156 - val_accuracy: 0.9656\n",
      "Epoch 4/20\n",
      "782/782 [==============================] - 45s 57ms/step - loss: 0.0972 - accuracy: 0.9728 - val_loss: 0.1063 - val_accuracy: 0.9709\n",
      "Epoch 5/20\n",
      "782/782 [==============================] - 44s 56ms/step - loss: 0.0943 - accuracy: 0.9743 - val_loss: 0.1086 - val_accuracy: 0.9723\n",
      "Epoch 6/20\n",
      "782/782 [==============================] - 43s 55ms/step - loss: 0.0894 - accuracy: 0.9766 - val_loss: 0.1023 - val_accuracy: 0.9723\n",
      "Epoch 7/20\n",
      "782/782 [==============================] - 43s 55ms/step - loss: 0.0852 - accuracy: 0.9771 - val_loss: 0.1324 - val_accuracy: 0.9669\n",
      "Epoch 8/20\n",
      "782/782 [==============================] - 42s 54ms/step - loss: 0.0813 - accuracy: 0.9787 - val_loss: 0.1094 - val_accuracy: 0.9717\n"
     ]
    }
   ],
   "source": [
    "callback_early = EarlyStopping(monitor=\"val_accuracy\", patience=3, mode=\"auto\")\n",
    "\n",
    "history_conv = conv_model.fit(\n",
    "    train_generator,\n",
    "    epochs=20,\n",
    "    validation_data=validation_generator,\n",
    "    batch_size=64,\n",
    "    callbacks=[callback_early],\n",
    ")"
   ]
  },
  {
   "cell_type": "markdown",
   "metadata": {},
   "source": [
    "El mejor histórico lo alcanzo en la época 3 con un val_accuracy de 0.8568 y como durante 3 épocas NO mejoro este resultado, entonces automáticamente detuvo el proceso de entrenamiento.\n"
   ]
  },
  {
   "cell_type": "markdown",
   "metadata": {},
   "source": [
    "### PLUS: guardando el modelo con checkpoints\n",
    "\n",
    "Crearemos otro callback para guardar el modelo cada que encuentre una época que optimice el parámetro de accuracy. Lo guardaremos en la carpeta models con el nombre de: best_model.keras\n"
   ]
  },
  {
   "cell_type": "code",
   "execution_count": 27,
   "metadata": {},
   "outputs": [],
   "source": [
    "checkpoint = ModelCheckpoint(\n",
    "    filepath=\"../model/best_model.keras\",\n",
    "    save_best_only=True,\n",
    "    save_weights_only=False,\n",
    "    mode=\"auto\",\n",
    "    verbose=1,\n",
    "    monitor=\"val_accuracy\",\n",
    ")"
   ]
  },
  {
   "cell_type": "code",
   "execution_count": 28,
   "metadata": {},
   "outputs": [
    {
     "name": "stdout",
     "output_type": "stream",
     "text": [
      "Epoch 1/20\n",
      "782/782 [==============================] - ETA: 0s - loss: 0.0788 - accuracy: 0.9793\n",
      "Epoch 1: val_accuracy improved from -inf to 0.97067, saving model to ../model\\best_model.keras\n",
      "782/782 [==============================] - 44s 57ms/step - loss: 0.0788 - accuracy: 0.9793 - val_loss: 0.1087 - val_accuracy: 0.9707\n",
      "Epoch 2/20\n",
      "782/782 [==============================] - ETA: 0s - loss: 0.0740 - accuracy: 0.9806\n",
      "Epoch 2: val_accuracy improved from 0.97067 to 0.97573, saving model to ../model\\best_model.keras\n",
      "782/782 [==============================] - 43s 55ms/step - loss: 0.0740 - accuracy: 0.9806 - val_loss: 0.0930 - val_accuracy: 0.9757\n",
      "Epoch 3/20\n",
      "781/782 [============================>.] - ETA: 0s - loss: 0.0746 - accuracy: 0.9803\n",
      "Epoch 3: val_accuracy improved from 0.97573 to 0.97600, saving model to ../model\\best_model.keras\n",
      "782/782 [==============================] - 44s 57ms/step - loss: 0.0747 - accuracy: 0.9802 - val_loss: 0.0978 - val_accuracy: 0.9760\n",
      "Epoch 4/20\n",
      "781/782 [============================>.] - ETA: 0s - loss: 0.0701 - accuracy: 0.9826\n",
      "Epoch 4: val_accuracy did not improve from 0.97600\n",
      "782/782 [==============================] - 45s 57ms/step - loss: 0.0703 - accuracy: 0.9825 - val_loss: 0.1087 - val_accuracy: 0.9725\n",
      "Epoch 5/20\n",
      "782/782 [==============================] - ETA: 0s - loss: 0.0672 - accuracy: 0.9838\n",
      "Epoch 5: val_accuracy did not improve from 0.97600\n",
      "782/782 [==============================] - 44s 56ms/step - loss: 0.0672 - accuracy: 0.9838 - val_loss: 0.1104 - val_accuracy: 0.9715\n",
      "Epoch 6/20\n",
      "781/782 [============================>.] - ETA: 0s - loss: 0.0640 - accuracy: 0.9842\n",
      "Epoch 6: val_accuracy did not improve from 0.97600\n",
      "782/782 [==============================] - 44s 56ms/step - loss: 0.0641 - accuracy: 0.9842 - val_loss: 0.0988 - val_accuracy: 0.9752\n"
     ]
    }
   ],
   "source": [
    "history_conv = conv_model.fit(\n",
    "    train_generator,\n",
    "    epochs=20,\n",
    "    validation_data=validation_generator,\n",
    "    batch_size=64,\n",
    "    callbacks=[callback_early, checkpoint],\n",
    ")"
   ]
  },
  {
   "cell_type": "code",
   "execution_count": 30,
   "metadata": {},
   "outputs": [
    {
     "data": {
      "image/png": "[encoded data removed]",
      "text/plain": [
       "<Figure size 800x500 with 2 Axes>"
      ]
     },
     "metadata": {},
     "output_type": "display_data"
    },
    {
     "name": "stdout",
     "output_type": "stream",
     "text": [
      "196/196 [==============================] - 4s 20ms/step - loss: 0.0848 - accuracy: 0.9780\n"
     ]
    }
   ],
   "source": [
    "plot_results(history_conv, \"accuracy\")\n",
    "\n",
    "results_conv = conv_model.evaluate(test_generator)"
   ]
  }
 ],
 "metadata": {
  "kernelspec": {
   "display_name": "template",
   "language": "python",
   "name": "python3"
  },
  "language_info": {
   "codemirror_mode": {
    "name": "ipython",
    "version": 3
   },
   "file_extension": ".py",
   "mimetype": "text/x-python",
   "name": "python",
   "nbconvert_exporter": "python",
   "pygments_lexer": "ipython3",
   "version": "3.11.8"
  }
 },
 "nbformat": 4,
 "nbformat_minor": 2
}
