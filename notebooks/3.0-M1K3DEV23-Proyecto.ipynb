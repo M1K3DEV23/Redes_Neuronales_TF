{
 "cells": [
  {
   "cell_type": "markdown",
   "metadata": {},
   "source": [
    "# Proyecto\n"
   ]
  },
  {
   "cell_type": "code",
   "execution_count": null,
   "metadata": {},
   "outputs": [],
   "source": [
    "%load_ext autoreload\n",
    "%autoreload 3"
   ]
  },
  {
   "cell_type": "code",
   "execution_count": 1,
   "metadata": {},
   "outputs": [],
   "source": [
    "import os\n",
    "import sys\n",
    "\n",
    "sys.path.append(os.path.dirname(os.path.abspath(os.path.abspath(\"\"))))"
   ]
  },
  {
   "cell_type": "markdown",
   "metadata": {},
   "source": [
    "## 1: Importando bibliotecas\n"
   ]
  },
  {
   "cell_type": "code",
   "execution_count": 36,
   "metadata": {},
   "outputs": [],
   "source": [
    "import matplotlib.pyplot as plt\n",
    "from keras import Model, Sequential\n",
    "from keras.callbacks import Callback, EarlyStopping, ModelCheckpoint\n",
    "from keras.layers import BatchNormalization, Conv2D, Dense, Dropout, Flatten, MaxPool2D\n",
    "from keras.optimizers import Adam\n",
    "from keras.preprocessing.image import ImageDataGenerator\n",
    "from keras.regularizers import l2"
   ]
  },
  {
   "cell_type": "markdown",
   "metadata": {},
   "source": [
    "## 2: Creando nuestros ImageDataGenerators\n",
    "\n",
    "Para este punto de la clase NO hemos hablado de `Data Augmentation` cosa que si has tomado este repositorio completo entonces ya debes conocer y entender. Ahora lo único que vamos a hacer es utilizar el `ImageDataGenerator` para normalizar las imágenes y esta clase nos permita generar un objeto con el método `frow_from_directory`\n",
    "\n",
    "Nota: Algo interesante es que del test_dataget también vamos a construir el validation test, por haber definido el parámetro validation_split\n"
   ]
  },
  {
   "cell_type": "code",
   "execution_count": 3,
   "metadata": {},
   "outputs": [],
   "source": [
    "train_dir = \"../data/rice_dataset/Train\"\n",
    "test_dir = \"../data/rice_dataset/Test\"\n",
    "val_dir = \"../data/rice_dataset/Validation\""
   ]
  },
  {
   "cell_type": "code",
   "execution_count": 4,
   "metadata": {},
   "outputs": [],
   "source": [
    "train_datagen = ImageDataGenerator(rescale=1 / 255)\n",
    "test_datagen = ImageDataGenerator(rescale=1 / 255)\n",
    "val_datagen = ImageDataGenerator(rescale=1 / 255, validation_split=0.6)"
   ]
  },
  {
   "cell_type": "markdown",
   "metadata": {},
   "source": [
    "## 3: Creamos nuestros generadores de imágenes, para los conjuntos de train, validation y test\n"
   ]
  },
  {
   "cell_type": "code",
   "execution_count": 14,
   "metadata": {},
   "outputs": [
    {
     "name": "stdout",
     "output_type": "stream",
     "text": [
      "Found 50000 images belonging to 5 classes.\n",
      "Found 7500 images belonging to 5 classes.\n",
      "Found 12500 images belonging to 5 classes.\n"
     ]
    }
   ],
   "source": [
    "train_generator = train_datagen.flow_from_directory(\n",
    "    train_dir,\n",
    "    target_size=(28, 28),\n",
    "    batch_size=128,\n",
    "    class_mode=\"categorical\",\n",
    "    color_mode=\"grayscale\",\n",
    "    subset=\"training\",\n",
    ")\n",
    "\n",
    "validation_generator = val_datagen.flow_from_directory(\n",
    "    val_dir,\n",
    "    target_size=(28, 28),\n",
    "    batch_size=128,\n",
    "    class_mode=\"categorical\",\n",
    "    color_mode=\"grayscale\",\n",
    "    subset=\"validation\",\n",
    ")\n",
    "\n",
    "\n",
    "test_generator = test_datagen.flow_from_directory(\n",
    "    test_dir,\n",
    "    target_size=(28, 28),\n",
    "    batch_size=128,\n",
    "    class_mode=\"categorical\",\n",
    "    color_mode=\"grayscale\",\n",
    ")"
   ]
  },
  {
   "cell_type": "markdown",
   "metadata": {},
   "source": [
    "## 4: Generando el nombre de las clases\n",
    "\n",
    "Sabemos que las clases están en label_encoding entonces hace falta definir el nombre de las labels de la siguiente manera\n"
   ]
  },
  {
   "cell_type": "code",
   "execution_count": 6,
   "metadata": {},
   "outputs": [
    {
     "name": "stdout",
     "output_type": "stream",
     "text": [
      "Classes:  ['Arborio', 'Basmati', 'Ipsala', 'Jasmine', 'Karacadag']\n"
     ]
    }
   ],
   "source": [
    "classes = [\"Arborio\", \"Basmati\", \"Ipsala\", \"Jasmine\", \"Karacadag\"]\n",
    "\n",
    "print(\"Classes: \", classes)"
   ]
  },
  {
   "cell_type": "markdown",
   "metadata": {},
   "source": [
    "## 5: Muestra de entrenamiento\n"
   ]
  },
  {
   "cell_type": "markdown",
   "metadata": {},
   "source": [
    "Definimos una función auxiliar para mostrar imágenes:\n"
   ]
  },
  {
   "cell_type": "code",
   "execution_count": 7,
   "metadata": {},
   "outputs": [],
   "source": [
    "def plot_images(images_arr):\n",
    "    fig, axes = plt.subplots(1, 5, figsize=(10, 10))\n",
    "    axes = axes.flatten()\n",
    "\n",
    "    for img, ax in zip(images_arr, axes):\n",
    "        ax.imshow(img[:, :, 0], cmap=\"gray\")\n",
    "        ax.axis(\"off\")\n",
    "\n",
    "    plt.tight_layout()\n",
    "    plt.show()"
   ]
  },
  {
   "cell_type": "markdown",
   "metadata": {},
   "source": [
    "Generamos una muestra de 5 imágenes de nuestro `train_generator`\n"
   ]
  },
  {
   "cell_type": "code",
   "execution_count": 8,
   "metadata": {},
   "outputs": [
    {
     "data": {
      "image/png": "[encoded data removed]",
      "text/plain": [
       "<Figure size 1000x1000 with 5 Axes>"
      ]
     },
     "metadata": {},
     "output_type": "display_data"
    }
   ],
   "source": [
    "sample_trainnig_images, _ = next(train_generator)\n",
    "plot_images(sample_trainnig_images[:5])"
   ]
  },
  {
   "cell_type": "markdown",
   "metadata": {},
   "source": [
    "# Crear la red neuronal, definir capas, compilar, entrenar, evaluar y predicciones\n",
    "\n",
    "Este será nuestra primera aproximación a resolver el problema de clasificación de aroz\n"
   ]
  },
  {
   "cell_type": "code",
   "execution_count": 9,
   "metadata": {},
   "outputs": [],
   "source": [
    "def plot_results(history_, metric):\n",
    "    history_dict = history_.history\n",
    "    loss_values = history_dict[\"loss\"]\n",
    "    val_loss_values = history_dict[\"val_loss\"]\n",
    "    metric_values = history_dict[metric]\n",
    "    val_metric_values = history_dict[f\"val_{metric}\"]\n",
    "\n",
    "    epoch = range(1, len(loss_values) + 1)\n",
    "    fig, ax = plt.subplots(1, 2, figsize=(8, 5))\n",
    "    fig.suptitle(\"Neural Network's Result\")\n",
    "    ax[0].set_title(\"Loss function over epoch\")\n",
    "    ax[0].set(ylabel=\"loss\", xlabel=\"epoch\")\n",
    "    ax[0].plot(epoch, loss_values, \"go-\", label=\"training\")\n",
    "    ax[0].plot(epoch, val_loss_values, \"ro-\", label=\"validation\")\n",
    "    ax[0].legend()\n",
    "\n",
    "    ax[1].set_title(f\"{metric} over epoch\")\n",
    "    ax[1].set(ylabel=metric, xlabel=\"epochs\")\n",
    "    ax[1].plot(epoch, metric_values, \"go-\", label=\"training\")\n",
    "    ax[1].plot(epoch, val_metric_values, \"ro-\", label=\"validation\")\n",
    "    ax[1].legend()\n",
    "    plt.show()"
   ]
  },
  {
   "cell_type": "markdown",
   "metadata": {},
   "source": [
    "## 6: Crear la arquitectura base del modelo\n"
   ]
  },
  {
   "cell_type": "code",
   "execution_count": null,
   "metadata": {},
   "outputs": [],
   "source": [
    "def base_architecture(input_shape: tuple, n_clases: int):\n",
    "    model = Sequential()\n",
    "    model.add(Flatten(input_shape=input_shape))\n",
    "    model.add(Dense(256, activation=\"relu\"))\n",
    "    model.add(Dense(128, activation=\"relu\"))\n",
    "    model.add(Dense(n_clases, activation=\"softmax\"))\n",
    "    print(model.summary())\n",
    "    return model"
   ]
  },
  {
   "cell_type": "markdown",
   "metadata": {},
   "source": [
    "Llamamos a nuestra función auxiliar en nuestro ciclo principal.\n"
   ]
  },
  {
   "cell_type": "code",
   "execution_count": null,
   "metadata": {},
   "outputs": [],
   "source": [
    "base_model = base_architecture(input_shape=(28, 28, 1), n_clases=len(classes))"
   ]
  },
  {
   "cell_type": "markdown",
   "metadata": {},
   "source": [
    "## 7: Compilamos el modelo\n"
   ]
  },
  {
   "cell_type": "code",
   "execution_count": null,
   "metadata": {},
   "outputs": [],
   "source": [
    "base_model.compile(\n",
    "    optimizer=\"adam\", loss=\"categorical_crossentropy\", metrics=\"accuracy\"\n",
    ")"
   ]
  },
  {
   "cell_type": "markdown",
   "metadata": {},
   "source": [
    "Recordemos que como es un problema de clasificación multiple nuestra perdida debe ser: `categorical_crossentropy` y la última capa de clasificación del modelo tendrá 24 neuronas una por cada clase disponible y a su vez esto nos hace necesitar usar `softmax` como función de activación.\n"
   ]
  },
  {
   "cell_type": "markdown",
   "metadata": {},
   "source": [
    "## 8: Entrenamos el modelo\n"
   ]
  },
  {
   "cell_type": "code",
   "execution_count": null,
   "metadata": {},
   "outputs": [],
   "source": [
    "history = base_model.fit(\n",
    "    train_generator, epochs=10, validation_data=validation_generator, batch_size=64\n",
    ")"
   ]
  },
  {
   "cell_type": "markdown",
   "metadata": {},
   "source": [
    "## 9: Análisis de resultados\n"
   ]
  },
  {
   "cell_type": "code",
   "execution_count": null,
   "metadata": {},
   "outputs": [],
   "source": [
    "plot_results(history, \"accuracy\")\n",
    "\n",
    "results = base_model.evaluate(test_generator)"
   ]
  },
  {
   "cell_type": "markdown",
   "metadata": {},
   "source": [
    "Para resumir, la estructura en código de este ejercicio fue:\n"
   ]
  },
  {
   "cell_type": "markdown",
   "metadata": {},
   "source": [
    "Para este momento hemos conseguido un `accuracy` del **97.577%** del modelo\n"
   ]
  },
  {
   "cell_type": "markdown",
   "metadata": {},
   "source": [
    "La estructura de código de esta clase se mantiene igual a la de la clase anterior, el único cambio relevante es el cambio de la arquitectura base del modelo por una regularizada:\n"
   ]
  },
  {
   "cell_type": "code",
   "execution_count": null,
   "metadata": {},
   "outputs": [],
   "source": [
    "def base_architecture_w_regularizes(input_shape, n_clases):\n",
    "    model = Sequential()\n",
    "    model.add(Flatten(input_shape=input_shape))\n",
    "    model.add(Dense(256, activation=\"relu\", kernel_regularizer=regularizers.l2(1e-5)))\n",
    "    model.add(Dropout(0.2))\n",
    "    model.add(Dense(128, activation=\"relu\", kernel_regularizer=regularizers.l2(1e-5)))\n",
    "    model.add(Dropout(0.2))\n",
    "    model.add(Dense(n_clases, activation=\"softmax\"))\n",
    "    print(model.summary())\n",
    "    return model"
   ]
  },
  {
   "cell_type": "code",
   "execution_count": null,
   "metadata": {},
   "outputs": [],
   "source": [
    "regularized_model = base_architecture_w_regularizes(\n",
    "    input_shape=(28, 28, 1), n_clases=len(classes)\n",
    ")"
   ]
  },
  {
   "cell_type": "code",
   "execution_count": null,
   "metadata": {},
   "outputs": [],
   "source": [
    "regularized_model.compile(\n",
    "    optimizer=\"adam\", loss=\"categorical_crossentropy\", metrics=\"accuracy\"\n",
    ")"
   ]
  },
  {
   "cell_type": "code",
   "execution_count": null,
   "metadata": {},
   "outputs": [],
   "source": [
    "history_regularized = regularized_model.fit(\n",
    "    train_generator, epochs=10, validation_data=validation_generator, batch_size=64\n",
    ")"
   ]
  },
  {
   "cell_type": "code",
   "execution_count": null,
   "metadata": {},
   "outputs": [],
   "source": [
    "plot_results(history_regularized, \"accuracy\")\n",
    "\n",
    "results_regularized = regularized_model.evaluate(test_generator)"
   ]
  },
  {
   "cell_type": "code",
   "execution_count": 10,
   "metadata": {},
   "outputs": [],
   "source": [
    "def conv_architecture(input_shape, n_clases):\n",
    "    model = Sequential()\n",
    "    model.add(\n",
    "        Conv2D(\n",
    "            filters=128, kernel_size=(3, 3), activation=\"relu\", input_shape=input_shape\n",
    "        )\n",
    "    )\n",
    "    model.add(MaxPool2D(pool_size=(2, 2)))\n",
    "    model.add(Flatten())\n",
    "    model.add(Dense(256, activation=\"relu\", kernel_regularizer=regularizers.l2(1e-5)))\n",
    "    model.add(Dropout(0.2))\n",
    "    model.add(Dense(128, activation=\"relu\", kernel_regularizer=regularizers.l2(1e-5)))\n",
    "    model.add(Dropout(0.2))\n",
    "    model.add(Dense(n_clases, activation=\"softmax\"))\n",
    "    print(model.summary())\n",
    "    return model"
   ]
  },
  {
   "cell_type": "code",
   "execution_count": 14,
   "metadata": {},
   "outputs": [
    {
     "name": "stdout",
     "output_type": "stream",
     "text": [
      "WARNING:tensorflow:From c:\\Users\\mike\\Desktop\\redes_neuronales_tf\\venv\\Lib\\site-packages\\keras\\src\\backend.py:873: The name tf.get_default_graph is deprecated. Please use tf.compat.v1.get_default_graph instead.\n",
      "\n",
      "WARNING:tensorflow:From c:\\Users\\mike\\Desktop\\redes_neuronales_tf\\venv\\Lib\\site-packages\\keras\\src\\layers\\pooling\\max_pooling2d.py:161: The name tf.nn.max_pool is deprecated. Please use tf.nn.max_pool2d instead.\n",
      "\n",
      "Model: \"sequential\"\n",
      "_________________________________________________________________\n",
      " Layer (type)                Output Shape              Param #   \n",
      "=================================================================\n",
      " conv2d (Conv2D)             (None, 26, 26, 128)       1280      \n",
      "                                                                 \n",
      " max_pooling2d (MaxPooling2  (None, 13, 13, 128)       0         \n",
      " D)                                                              \n",
      "                                                                 \n",
      " flatten (Flatten)           (None, 21632)             0         \n",
      "                                                                 \n",
      " dense (Dense)               (None, 256)               5538048   \n",
      "                                                                 \n",
      " dropout (Dropout)           (None, 256)               0         \n",
      "                                                                 \n",
      " dense_1 (Dense)             (None, 128)               32896     \n",
      "                                                                 \n",
      " dropout_1 (Dropout)         (None, 128)               0         \n",
      "                                                                 \n",
      " dense_2 (Dense)             (None, 5)                 645       \n",
      "                                                                 \n",
      "=================================================================\n",
      "Total params: 5572869 (21.26 MB)\n",
      "Trainable params: 5572869 (21.26 MB)\n",
      "Non-trainable params: 0 (0.00 Byte)\n",
      "_________________________________________________________________\n",
      "None\n"
     ]
    }
   ],
   "source": [
    "conv_model = conv_architecture(input_shape=(28, 28, 1), n_clases=len(classes))"
   ]
  },
  {
   "cell_type": "code",
   "execution_count": 15,
   "metadata": {},
   "outputs": [
    {
     "name": "stdout",
     "output_type": "stream",
     "text": [
      "WARNING:tensorflow:From c:\\Users\\mike\\Desktop\\redes_neuronales_tf\\venv\\Lib\\site-packages\\keras\\src\\optimizers\\__init__.py:309: The name tf.train.Optimizer is deprecated. Please use tf.compat.v1.train.Optimizer instead.\n",
      "\n"
     ]
    }
   ],
   "source": [
    "conv_model.compile(\n",
    "    optimizer=\"adam\", loss=\"categorical_crossentropy\", metrics=\"accuracy\"\n",
    ")"
   ]
  },
  {
   "cell_type": "code",
   "execution_count": null,
   "metadata": {},
   "outputs": [],
   "source": [
    "history_conv = conv_model.fit(\n",
    "    train_generator, epochs=10, validation_data=validation_generator, batch_size=64\n",
    ")"
   ]
  },
  {
   "cell_type": "code",
   "execution_count": null,
   "metadata": {},
   "outputs": [],
   "source": [
    "plot_results(history_conv, \"accuracy\")\n",
    "\n",
    "results_conv = conv_model.evaluate(test_generator)"
   ]
  },
  {
   "cell_type": "markdown",
   "metadata": {},
   "source": [
    "## Métricas para medir la eficiencia de un modelo: Callback\n"
   ]
  },
  {
   "cell_type": "markdown",
   "metadata": {},
   "source": [
    "En este ejemplo vamos a definir un pequeño `Custom Callback`\n",
    "\n",
    "Supongamos que queremos detener el proceso de entrenamiento del modelo cuando el mismo haya logrado alcanzar al menos 80% de accuracy en el set de validación.\n",
    "\n",
    "Lo único que necesitamos hacer es crear una clase que contenga nuestra `CustoCallback`:\n"
   ]
  },
  {
   "cell_type": "code",
   "execution_count": 11,
   "metadata": {},
   "outputs": [],
   "source": [
    "class TrainingCallback(Callback):\n",
    "\n",
    "    def __init__(self, acc_stop):\n",
    "        super().__init__()\n",
    "        self.acc_stop = acc_stop\n",
    "\n",
    "    def on_epoch_end(self, epoch, logs=None):\n",
    "        if logs.get(\"val_accuracy\") > self.acc_stop:\n",
    "            print(f\"Lo hemos logrado! El modelo ha llegado a un {self.acc_stop * 100}%\")\n",
    "            self.model.stop_training = True"
   ]
  },
  {
   "cell_type": "markdown",
   "metadata": {},
   "source": [
    "Existen varios overrides que podemos hacer para crear nuestras Callbacks propias, entre ellas podemos encontrar las siguientes:\n"
   ]
  },
  {
   "cell_type": "code",
   "execution_count": null,
   "metadata": {},
   "outputs": [],
   "source": [
    "from keras.callbacks import Callback\n",
    "\n",
    "\n",
    "class TrainingCallback(Callback):\n",
    "    def on_train_begin(self, logs=None):\n",
    "        print(\"Starting training....\")\n",
    "\n",
    "    def on_epoch_begin(self, epoch, logs=None):\n",
    "        print(\"Starting epoch {}\".format(epoch))\n",
    "\n",
    "    def on_train_batch_begin(self, batch, logs=None):\n",
    "        print(\"Training: Starting batch {}\".format(batch))\n",
    "\n",
    "    def on_train_batch_end(self, batch, logs=None):\n",
    "        print(\"Training: Finished batch {}\".format(batch))\n",
    "\n",
    "    def on_epoch_end(self, epoch, logs=None):\n",
    "        print(\"Finished epoch {}\".format(epoch))\n",
    "\n",
    "    def on_train_end(self, logs=None):\n",
    "        print(\"Finished training!\")\n",
    "\n",
    "\n",
    "class TestingCallback(Callback):\n",
    "    def on_test_begin(self, logs=None):\n",
    "        print(\"Starting testing....\")\n",
    "\n",
    "    def on_test_batch_begin(self, batch, logs=None):\n",
    "        print(\"Testing: Starting batch {}\".format(batch))\n",
    "\n",
    "    def on_test_batch_end(self, batch, logs=None):\n",
    "        print(\"Testing: Finished batch {}\".format(batch))\n",
    "\n",
    "    def on_test_end(self, logs=None):\n",
    "        print(\"Finished testing!\")\n",
    "\n",
    "\n",
    "class PredictionCallback(Callback):\n",
    "    def on_predict_begin(self, logs=None):\n",
    "        print(\"Prediction testing....\")\n",
    "\n",
    "    def on_predict_batch_begin(self, batch, logs=None):\n",
    "        print(\"Prediction: Starting batch {}\".format(batch))\n",
    "\n",
    "    def on_predict_batch_end(self, batch, logs=None):\n",
    "        print(\"Prediction: Finished batch {}\".format(batch))\n",
    "\n",
    "    def on_predict_end(self, logs=None):\n",
    "        print(\"Finished prediction!\")"
   ]
  },
  {
   "cell_type": "code",
   "execution_count": 20,
   "metadata": {},
   "outputs": [],
   "source": [
    "callback_my = TrainingCallback(acc_stop=0.95)"
   ]
  },
  {
   "cell_type": "code",
   "execution_count": 21,
   "metadata": {},
   "outputs": [
    {
     "name": "stdout",
     "output_type": "stream",
     "text": [
      "Epoch 1/20\n",
      "782/782 [==============================] - ETA: 0s - loss: 0.1178 - accuracy: 0.9642Lo hemos logrado! El modelo ha llegado a un 95.0%\n",
      "782/782 [==============================] - 45s 58ms/step - loss: 0.1178 - accuracy: 0.9642 - val_loss: 0.1056 - val_accuracy: 0.9693\n"
     ]
    }
   ],
   "source": [
    "history_conv = conv_model.fit(\n",
    "    train_generator,\n",
    "    epochs=20,\n",
    "    validation_data=validation_generator,\n",
    "    batch_size=64,\n",
    "    callbacks=[callback_my],\n",
    ")"
   ]
  },
  {
   "cell_type": "markdown",
   "metadata": {},
   "source": [
    "Aquí el proceso se ha detenido a pesar de que le hemos pedido que hiciera 10 epochs esto muestra como hemos hecho funcionar correctamente nuestra propuesta de EarlyStop basada en el val_accuracy.\n"
   ]
  },
  {
   "cell_type": "code",
   "execution_count": 22,
   "metadata": {},
   "outputs": [
    {
     "data": {
      "image/png": "[encoded data removed]",
      "text/plain": [
       "<Figure size 800x500 with 2 Axes>"
      ]
     },
     "metadata": {},
     "output_type": "display_data"
    },
    {
     "name": "stdout",
     "output_type": "stream",
     "text": [
      "196/196 [==============================] - 4s 22ms/step - loss: 0.0952 - accuracy: 0.9733\n"
     ]
    }
   ],
   "source": [
    "plot_results(history_conv, \"accuracy\")\n",
    "\n",
    "results_conv = conv_model.evaluate(test_generator)"
   ]
  },
  {
   "cell_type": "markdown",
   "metadata": {},
   "source": [
    "## Monitoreo del entrenamiento en tiempo real: early stopping y patience\n"
   ]
  },
  {
   "cell_type": "code",
   "execution_count": 24,
   "metadata": {},
   "outputs": [
    {
     "name": "stdout",
     "output_type": "stream",
     "text": [
      "Epoch 1/20\n",
      "782/782 [==============================] - 45s 58ms/step - loss: 0.1119 - accuracy: 0.9673 - val_loss: 0.1048 - val_accuracy: 0.9707\n",
      "Epoch 2/20\n",
      "782/782 [==============================] - 44s 56ms/step - loss: 0.1049 - accuracy: 0.9700 - val_loss: 0.1071 - val_accuracy: 0.9717\n",
      "Epoch 3/20\n",
      "782/782 [==============================] - 46s 58ms/step - loss: 0.1009 - accuracy: 0.9723 - val_loss: 0.1156 - val_accuracy: 0.9656\n",
      "Epoch 4/20\n",
      "782/782 [==============================] - 45s 57ms/step - loss: 0.0972 - accuracy: 0.9728 - val_loss: 0.1063 - val_accuracy: 0.9709\n",
      "Epoch 5/20\n",
      "782/782 [==============================] - 44s 56ms/step - loss: 0.0943 - accuracy: 0.9743 - val_loss: 0.1086 - val_accuracy: 0.9723\n",
      "Epoch 6/20\n",
      "782/782 [==============================] - 43s 55ms/step - loss: 0.0894 - accuracy: 0.9766 - val_loss: 0.1023 - val_accuracy: 0.9723\n",
      "Epoch 7/20\n",
      "782/782 [==============================] - 43s 55ms/step - loss: 0.0852 - accuracy: 0.9771 - val_loss: 0.1324 - val_accuracy: 0.9669\n",
      "Epoch 8/20\n",
      "782/782 [==============================] - 42s 54ms/step - loss: 0.0813 - accuracy: 0.9787 - val_loss: 0.1094 - val_accuracy: 0.9717\n"
     ]
    }
   ],
   "source": [
    "callback_early = EarlyStopping(monitor=\"val_accuracy\", patience=3, mode=\"auto\")\n",
    "\n",
    "history_conv = conv_model.fit(\n",
    "    train_generator,\n",
    "    epochs=20,\n",
    "    validation_data=validation_generator,\n",
    "    batch_size=64,\n",
    "    callbacks=[callback_early],\n",
    ")"
   ]
  },
  {
   "cell_type": "markdown",
   "metadata": {},
   "source": [
    "El mejor histórico lo alcanzo en la época 3 con un val_accuracy de 0.8568 y como durante 3 épocas NO mejoro este resultado, entonces automáticamente detuvo el proceso de entrenamiento.\n"
   ]
  },
  {
   "cell_type": "markdown",
   "metadata": {},
   "source": [
    "### PLUS: guardando el modelo con checkpoints\n",
    "\n",
    "Crearemos otro callback para guardar el modelo cada que encuentre una época que optimice el parámetro de accuracy. Lo guardaremos en la carpeta models con el nombre de: best_model.keras\n"
   ]
  },
  {
   "cell_type": "code",
   "execution_count": 27,
   "metadata": {},
   "outputs": [],
   "source": [
    "checkpoint = ModelCheckpoint(\n",
    "    filepath=\"../model/best_model.keras\",\n",
    "    save_best_only=True,\n",
    "    save_weights_only=False,\n",
    "    mode=\"auto\",\n",
    "    verbose=1,\n",
    "    monitor=\"val_accuracy\",\n",
    ")"
   ]
  },
  {
   "cell_type": "code",
   "execution_count": 28,
   "metadata": {},
   "outputs": [
    {
     "name": "stdout",
     "output_type": "stream",
     "text": [
      "Epoch 1/20\n",
      "782/782 [==============================] - ETA: 0s - loss: 0.0788 - accuracy: 0.9793\n",
      "Epoch 1: val_accuracy improved from -inf to 0.97067, saving model to ../model\\best_model.keras\n",
      "782/782 [==============================] - 44s 57ms/step - loss: 0.0788 - accuracy: 0.9793 - val_loss: 0.1087 - val_accuracy: 0.9707\n",
      "Epoch 2/20\n",
      "782/782 [==============================] - ETA: 0s - loss: 0.0740 - accuracy: 0.9806\n",
      "Epoch 2: val_accuracy improved from 0.97067 to 0.97573, saving model to ../model\\best_model.keras\n",
      "782/782 [==============================] - 43s 55ms/step - loss: 0.0740 - accuracy: 0.9806 - val_loss: 0.0930 - val_accuracy: 0.9757\n",
      "Epoch 3/20\n",
      "781/782 [============================>.] - ETA: 0s - loss: 0.0746 - accuracy: 0.9803\n",
      "Epoch 3: val_accuracy improved from 0.97573 to 0.97600, saving model to ../model\\best_model.keras\n",
      "782/782 [==============================] - 44s 57ms/step - loss: 0.0747 - accuracy: 0.9802 - val_loss: 0.0978 - val_accuracy: 0.9760\n",
      "Epoch 4/20\n",
      "781/782 [============================>.] - ETA: 0s - loss: 0.0701 - accuracy: 0.9826\n",
      "Epoch 4: val_accuracy did not improve from 0.97600\n",
      "782/782 [==============================] - 45s 57ms/step - loss: 0.0703 - accuracy: 0.9825 - val_loss: 0.1087 - val_accuracy: 0.9725\n",
      "Epoch 5/20\n",
      "782/782 [==============================] - ETA: 0s - loss: 0.0672 - accuracy: 0.9838\n",
      "Epoch 5: val_accuracy did not improve from 0.97600\n",
      "782/782 [==============================] - 44s 56ms/step - loss: 0.0672 - accuracy: 0.9838 - val_loss: 0.1104 - val_accuracy: 0.9715\n",
      "Epoch 6/20\n",
      "781/782 [============================>.] - ETA: 0s - loss: 0.0640 - accuracy: 0.9842\n",
      "Epoch 6: val_accuracy did not improve from 0.97600\n",
      "782/782 [==============================] - 44s 56ms/step - loss: 0.0641 - accuracy: 0.9842 - val_loss: 0.0988 - val_accuracy: 0.9752\n"
     ]
    }
   ],
   "source": [
    "history_conv = conv_model.fit(\n",
    "    train_generator,\n",
    "    epochs=20,\n",
    "    validation_data=validation_generator,\n",
    "    batch_size=64,\n",
    "    callbacks=[callback_early, checkpoint],\n",
    ")"
   ]
  },
  {
   "cell_type": "code",
   "execution_count": 30,
   "metadata": {},
   "outputs": [
    {
     "data": {
      "image/png": "[encoded data removed]",
      "text/plain": [
       "<Figure size 800x500 with 2 Axes>"
      ]
     },
     "metadata": {},
     "output_type": "display_data"
    },
    {
     "name": "stdout",
     "output_type": "stream",
     "text": [
      "196/196 [==============================] - 4s 20ms/step - loss: 0.0848 - accuracy: 0.9780\n"
     ]
    }
   ],
   "source": [
    "plot_results(history_conv, \"accuracy\")\n",
    "\n",
    "results_conv = conv_model.evaluate(test_generator)"
   ]
  },
  {
   "cell_type": "markdown",
   "metadata": {},
   "source": [
    "# kerasTuner: Construyendo el modelo\n"
   ]
  },
  {
   "cell_type": "markdown",
   "metadata": {},
   "source": [
    "Sin embargo, en está ocasión vamos a importar nuevas librerías que NO habíamos utilizado antes:\n"
   ]
  },
  {
   "cell_type": "code",
   "execution_count": 10,
   "metadata": {},
   "outputs": [],
   "source": [
    "from abc import ABC\n",
    "from keras_tuner import HyperModel, Hyperband\n",
    "import json"
   ]
  },
  {
   "cell_type": "markdown",
   "metadata": {},
   "source": [
    "Nos vamos a enfocar principalmente en `HyperModel` y en `Hyperband` las cuales nos van a permitir construir una clase con la arquitectura del modelo y ciertos parámetros preestablecidos por el constructor de la clase.\n"
   ]
  },
  {
   "cell_type": "markdown",
   "metadata": {},
   "source": [
    "## 10: Definiendo la clase de la arquitectura deseada\n",
    "\n",
    "Por documentación de `keras tuner` para crear nuestra propia clase de `HyperModel` debemos heredar de ella y de ABC definimos nuevos parámetros que en este caso serán: `input_shape` y `n_classes`\n"
   ]
  },
  {
   "cell_type": "code",
   "execution_count": 15,
   "metadata": {},
   "outputs": [],
   "source": [
    "class CNNArchitecture(HyperModel, ABC):\n",
    "\n",
    "    def __init__(self, input_shape, n_classes):\n",
    "        super().__init__()\n",
    "        self.input_shape = input_shape\n",
    "        self.n_classes = n_classes\n",
    "\n",
    "    def build(self, hp):\n",
    "        model = Sequential()\n",
    "\n",
    "        model.add(\n",
    "            Conv2D(\n",
    "                filters=128,\n",
    "                kernel_size=(3, 3),\n",
    "                activation=\"relu\",\n",
    "                input_shape=self.input_shape,\n",
    "            )\n",
    "        )\n",
    "        model.add(MaxPool2D(pool_size=(2, 2)))\n",
    "        model.add(Flatten())\n",
    "\n",
    "        # Keras-Tuner\n",
    "        model.add(\n",
    "            Dense(\n",
    "                units=hp.Int(\n",
    "                    \"units_1\", min_value=64, max_value=512, step=64, default=128\n",
    "                ),\n",
    "                activation=\"relu\",\n",
    "                kernel_regularizer=l2(1e-5),\n",
    "            )\n",
    "        )\n",
    "        model.add(\n",
    "            Dropout(\n",
    "                rate=hp.Float(\n",
    "                    \"dropout_1\", min_value=0.2, max_value=0.6, default=0.5, step=0.10\n",
    "                )\n",
    "            )\n",
    "        )\n",
    "        model.add(BatchNormalization())\n",
    "\n",
    "        model.add(Dense(128, activation=\"relu\", kernel_regularizer=l2(1e-5)))\n",
    "        model.add(Dropout(0.2))\n",
    "        model.add(BatchNormalization())\n",
    "\n",
    "        model.add(Dense(self.n_classes, activation=\"softmax\"))\n",
    "\n",
    "        model.compile(\n",
    "            Adam(\n",
    "                hp.Float(\n",
    "                    \"learning_rate\",\n",
    "                    min_value=1e-4,\n",
    "                    max_value=1e-2,\n",
    "                    sampling=\"LOG\",\n",
    "                    default=1e-3,\n",
    "                )\n",
    "            ),\n",
    "            loss=\"categorical_crossentropy\",\n",
    "            metrics=\"accuracy\",\n",
    "        )\n",
    "        # Alternativa a hp.Float -> hp.Choice('learning_rate', values = [1e-2, 1e-3, 1e-4])\n",
    "        return model"
   ]
  },
  {
   "cell_type": "markdown",
   "metadata": {},
   "source": [
    "De esta forma cuando creemos un objeto de la clase CNNArchitecture podremos definir esos parámetros, los cuáles no se definen por la arquitectura del modelo sino por la naturaleza del problema. En nuestro caso nuestras imágenes del dataset son de `(28x28x1)` y tenemos un total de `24` clases diferenciables.\n"
   ]
  },
  {
   "cell_type": "markdown",
   "metadata": {},
   "source": [
    "## 11: Construimos la arquitectura del modelo y compilamos\n",
    "\n",
    "El parámetro `hp` hace referencia a un diccionario que contenga los valores pre-cargados para los hiperparámetros. Si no se pasa un valor entonces utilizará los parámetros que tenga disponibles para entrenar.\n",
    "\n",
    "Hasta este momento nuestra arquitectura es idéntica a las que ya hemos venido creado en clases anteriores, con la única diferencia de que ahora al ser un método de una clase accedemos al `input_shape` como `self.input_shape` puesto que este valor lo definimos en el constructor de la clase.\n",
    "\n",
    "Aquí empieza lo verdaderamente interesante, definir las siguientes capas NO con valores fijos sino con valores que pueden ser variados dentro de un rango predeterminado de valores. Para la siguiente capa que normalmente habiamos definido de la siguiente manera:\n",
    "\n",
    "```python\n",
    "  model.add(Dense(256, activation=\"relu\", kernel_regularizer=l2(1e-5)))\n",
    "  model.add(Dropout(0.2))\n",
    "```\n",
    "\n",
    "Podemos hacer que el número de neuronas **256** y el valor de dropout **0.2** No sean constantes si no que sean elegibles dentro de un rango conocido.\n",
    "\n",
    "```python\n",
    "model.add(Dense(units=hp.Int(\"units_1\", min_value=64, max_value=512, step=64, default=128),activation=\"relu\", kernel_regularizer=l2(1e-5)))\n",
    "model.add(Dropout(rate=hp.Float(\"dropout_1\", min_value=0.2, max_value=0.6, default=0.5, step=0.10)))\n",
    "model.add(BatchNormalization())\n",
    "```\n",
    "\n",
    "Lo más interesante es que en lugar de definir `256` neuronas para la capa `Dense` es que estamos proponiendo un rango de **64 a 512** en intervalos de 64, con un valor por defecto de 128. Aquí estamos ocupando el método `Int` pero recordemos que tenemos otros disponibles. Como es el caso de `Float` el cual definimos para el cambiar el rate del dropout.\n",
    "\n",
    "Continuamos con la arquitectura de nuestro modelo:\n",
    "\n",
    "```python\n",
    "model.add(Dense(128, activation=\"relu\", kernel_regularizer=l2(1e-5)))\n",
    "model.add(Dropout(0.2))\n",
    "model.add(BatchNormalization())\n",
    "model.add(Dense(self.n_classes, activation=\"softmax\"))\n",
    "```\n",
    "\n",
    "Hasta aquí nada interesante, son cosas que ya entendemos y conocemos, salvo el hecho de que la última capa la encargada de clasificación está definida por `self.n_classes` variable definida por el constructor de la clase.\n",
    "\n",
    "Sin embargo, para terminar, debemos compilar el modelo:\n",
    "\n",
    "```python\n",
    "model.compile(Adam(hp.Float(\"learning_rate\", min_value=1e-4, max_value=1e-2, sampling=\"LOG\", default=1e-3,)),\n",
    "                      loss=\"categorical_crossentropy\", metrics=['accuracy'])\n",
    "\t# Alternativa a hp.Float -> hp.Choice('learning_rate', values = [1e-2, 1e-3, 1e-4])\n",
    "        return model\n",
    "```\n",
    "\n",
    "Nota interesante, que el optimizador `ADAM` también puede verse beneficiado de `keras tuner` puesto que su learning rate ahora no es un solo valor si no que es un rango de valores, puesto que los valores son sumamente pequeños es necesario poner que el `sampling es \"LOG\"`.\n"
   ]
  },
  {
   "cell_type": "markdown",
   "metadata": {},
   "source": [
    "## KerasTuner: Buscando la mejor configuración para tu modelo\n",
    "\n",
    "Cómo en la clase pasada ya hemos definido la arquitectura del modelo, en esta clase vamos a ver como utilizarla en conjunto al `Hyperband` para hacer nuestra búsqueda de parámetros óptimos para nuestra red:\n",
    "\n",
    "Empezamos con lo básico: Crear las particiones de nuestros datos\n"
   ]
  },
  {
   "cell_type": "markdown",
   "metadata": {},
   "source": [
    "Ahora podemos crear el modelo a partir de nuestra clase `CNNArchitecture`\n"
   ]
  },
  {
   "cell_type": "code",
   "execution_count": 20,
   "metadata": {},
   "outputs": [],
   "source": [
    "cnn_model = CNNArchitecture(input_shape=(28, 28, 1), n_classes=len(classes))"
   ]
  },
  {
   "cell_type": "markdown",
   "metadata": {},
   "source": [
    "Aquí empieza la búsqueda de los mejores hiperparámetros, primero debemos crear un objeto `tuner` de la clase `Hyperband` con nuestro `hypermodel` llamado `cnn_model`:\n"
   ]
  },
  {
   "cell_type": "code",
   "execution_count": 22,
   "metadata": {},
   "outputs": [],
   "source": [
    "tuner = Hyperband(\n",
    "    hypermodel=cnn_model,\n",
    "    objective=\"val_accuracy\",\n",
    "    max_epochs=5,\n",
    "    factor=3,\n",
    "    directory=\"../model\",\n",
    "    project_name=\"Keras_tuner\",\n",
    ")"
   ]
  },
  {
   "cell_type": "markdown",
   "metadata": {},
   "source": [
    "Te recomiendo leer [Hyperband Tuner](https://keras.io/api/keras_tuner/tuners/hyperband/) para entender más de la documentación de este tuner sin embargo, a continuación te dejo sus parámetros disponibles.\n"
   ]
  },
  {
   "cell_type": "markdown",
   "metadata": {},
   "source": [
    "Ahora nuestro objeto `tuner` es un `hypermodel` de `cnn_model` con tuner podemos empezar a hacer la busqueda de los mejores hiperparámetros:\n"
   ]
  },
  {
   "cell_type": "code",
   "execution_count": 23,
   "metadata": {},
   "outputs": [
    {
     "name": "stdout",
     "output_type": "stream",
     "text": [
      "Trial 10 Complete [00h 02m 31s]\n",
      "val_accuracy: 0.9753333330154419\n",
      "\n",
      "Best val_accuracy So Far: 0.9753333330154419\n",
      "Total elapsed time: 00h 20m 58s\n"
     ]
    }
   ],
   "source": [
    "tuner.search(train_generator, epochs=5, validation_data=validation_generator)"
   ]
  },
  {
   "cell_type": "markdown",
   "metadata": {},
   "source": [
    "Ahora nuestro `hypermodel` ya se encuentra entrenado, podemos acceder a los mejores hiperparámetros que encontro:\n"
   ]
  },
  {
   "cell_type": "code",
   "execution_count": 24,
   "metadata": {},
   "outputs": [
    {
     "name": "stdout",
     "output_type": "stream",
     "text": [
      "<keras_tuner.src.engine.hyperparameters.hyperparameters.HyperParameters object at 0x000001D9E9CDD950>\n"
     ]
    }
   ],
   "source": [
    "best_hps = tuner.get_best_hyperparameters(num_trials=1)[0]\n",
    "print(best_hps)"
   ]
  },
  {
   "cell_type": "markdown",
   "metadata": {},
   "source": [
    "Esta configuración la podemos usar para construir un modelo:\n"
   ]
  },
  {
   "cell_type": "code",
   "execution_count": 25,
   "metadata": {},
   "outputs": [],
   "source": [
    "conv_model = tuner.hypermodel.build(best_hps)"
   ]
  },
  {
   "cell_type": "markdown",
   "metadata": {},
   "source": [
    "De esta manera `conv_model` ya NO es un `hypermodel` ya es un modelo convencional como los que hemos estado trabajando a lo largo del curso. `conv_model` ya se encuentra tuneado para tener la mejor configuración de hiperparmáetros posible, entonces es buena idea guardar la arquitectura del modelo para reutilizarla después:\n"
   ]
  },
  {
   "cell_type": "code",
   "execution_count": 27,
   "metadata": {},
   "outputs": [
    {
     "name": "stdout",
     "output_type": "stream",
     "text": [
      "{'name': 'sequential_1', 'layers': [{'module': 'keras.layers', 'class_name': 'InputLayer', 'config': {'batch_input_shape': (None, 28, 28, 1), 'dtype': 'float32', 'sparse': False, 'ragged': False, 'name': 'conv2d_1_input'}, 'registered_name': None}, {'module': 'keras.layers', 'class_name': 'Conv2D', 'config': {'name': 'conv2d_1', 'trainable': True, 'dtype': 'float32', 'batch_input_shape': (None, 28, 28, 1), 'filters': 128, 'kernel_size': (3, 3), 'strides': (1, 1), 'padding': 'valid', 'data_format': 'channels_last', 'dilation_rate': (1, 1), 'groups': 1, 'activation': 'relu', 'use_bias': True, 'kernel_initializer': {'module': 'keras.initializers', 'class_name': 'GlorotUniform', 'config': {'seed': None}, 'registered_name': None}, 'bias_initializer': {'module': 'keras.initializers', 'class_name': 'Zeros', 'config': {}, 'registered_name': None}, 'kernel_regularizer': None, 'bias_regularizer': None, 'activity_regularizer': None, 'kernel_constraint': None, 'bias_constraint': None}, 'registered_name': None, 'build_config': {'input_shape': (None, 28, 28, 1)}}, {'module': 'keras.layers', 'class_name': 'MaxPooling2D', 'config': {'name': 'max_pooling2d_1', 'trainable': True, 'dtype': 'float32', 'pool_size': (2, 2), 'padding': 'valid', 'strides': (2, 2), 'data_format': 'channels_last'}, 'registered_name': None, 'build_config': {'input_shape': (None, 26, 26, 128)}}, {'module': 'keras.layers', 'class_name': 'Flatten', 'config': {'name': 'flatten_1', 'trainable': True, 'dtype': 'float32', 'data_format': 'channels_last'}, 'registered_name': None, 'build_config': {'input_shape': (None, 13, 13, 128)}}, {'module': 'keras.layers', 'class_name': 'Dense', 'config': {'name': 'dense_3', 'trainable': True, 'dtype': 'float32', 'units': 128, 'activation': 'relu', 'use_bias': True, 'kernel_initializer': {'module': 'keras.initializers', 'class_name': 'GlorotUniform', 'config': {'seed': None}, 'registered_name': None}, 'bias_initializer': {'module': 'keras.initializers', 'class_name': 'Zeros', 'config': {}, 'registered_name': None}, 'kernel_regularizer': {'module': 'keras.regularizers', 'class_name': 'L2', 'config': {'l2': 9.999999747378752e-06}, 'registered_name': None}, 'bias_regularizer': None, 'activity_regularizer': None, 'kernel_constraint': None, 'bias_constraint': None}, 'registered_name': None, 'build_config': {'input_shape': (None, 21632)}}, {'module': 'keras.layers', 'class_name': 'Dropout', 'config': {'name': 'dropout_2', 'trainable': True, 'dtype': 'float32', 'rate': 0.30000000000000004, 'noise_shape': None, 'seed': None}, 'registered_name': None, 'build_config': {'input_shape': (None, 128)}}, {'module': 'keras.layers', 'class_name': 'BatchNormalization', 'config': {'name': 'batch_normalization_2', 'trainable': True, 'dtype': 'float32', 'axis': [1], 'momentum': 0.99, 'epsilon': 0.001, 'center': True, 'scale': True, 'beta_initializer': {'module': 'keras.initializers', 'class_name': 'Zeros', 'config': {}, 'registered_name': None}, 'gamma_initializer': {'module': 'keras.initializers', 'class_name': 'Ones', 'config': {}, 'registered_name': None}, 'moving_mean_initializer': {'module': 'keras.initializers', 'class_name': 'Zeros', 'config': {}, 'registered_name': None}, 'moving_variance_initializer': {'module': 'keras.initializers', 'class_name': 'Ones', 'config': {}, 'registered_name': None}, 'beta_regularizer': None, 'gamma_regularizer': None, 'beta_constraint': None, 'gamma_constraint': None}, 'registered_name': None, 'build_config': {'input_shape': (None, 128)}}, {'module': 'keras.layers', 'class_name': 'Dense', 'config': {'name': 'dense_4', 'trainable': True, 'dtype': 'float32', 'units': 128, 'activation': 'relu', 'use_bias': True, 'kernel_initializer': {'module': 'keras.initializers', 'class_name': 'GlorotUniform', 'config': {'seed': None}, 'registered_name': None}, 'bias_initializer': {'module': 'keras.initializers', 'class_name': 'Zeros', 'config': {}, 'registered_name': None}, 'kernel_regularizer': {'module': 'keras.regularizers', 'class_name': 'L2', 'config': {'l2': 9.999999747378752e-06}, 'registered_name': None}, 'bias_regularizer': None, 'activity_regularizer': None, 'kernel_constraint': None, 'bias_constraint': None}, 'registered_name': None, 'build_config': {'input_shape': (None, 128)}}, {'module': 'keras.layers', 'class_name': 'Dropout', 'config': {'name': 'dropout_3', 'trainable': True, 'dtype': 'float32', 'rate': 0.2, 'noise_shape': None, 'seed': None}, 'registered_name': None, 'build_config': {'input_shape': (None, 128)}}, {'module': 'keras.layers', 'class_name': 'BatchNormalization', 'config': {'name': 'batch_normalization_3', 'trainable': True, 'dtype': 'float32', 'axis': [1], 'momentum': 0.99, 'epsilon': 0.001, 'center': True, 'scale': True, 'beta_initializer': {'module': 'keras.initializers', 'class_name': 'Zeros', 'config': {}, 'registered_name': None}, 'gamma_initializer': {'module': 'keras.initializers', 'class_name': 'Ones', 'config': {}, 'registered_name': None}, 'moving_mean_initializer': {'module': 'keras.initializers', 'class_name': 'Zeros', 'config': {}, 'registered_name': None}, 'moving_variance_initializer': {'module': 'keras.initializers', 'class_name': 'Ones', 'config': {}, 'registered_name': None}, 'beta_regularizer': None, 'gamma_regularizer': None, 'beta_constraint': None, 'gamma_constraint': None}, 'registered_name': None, 'build_config': {'input_shape': (None, 128)}}, {'module': 'keras.layers', 'class_name': 'Dense', 'config': {'name': 'dense_5', 'trainable': True, 'dtype': 'float32', 'units': 5, 'activation': 'softmax', 'use_bias': True, 'kernel_initializer': {'module': 'keras.initializers', 'class_name': 'GlorotUniform', 'config': {'seed': None}, 'registered_name': None}, 'bias_initializer': {'module': 'keras.initializers', 'class_name': 'Zeros', 'config': {}, 'registered_name': None}, 'kernel_regularizer': None, 'bias_regularizer': None, 'activity_regularizer': None, 'kernel_constraint': None, 'bias_constraint': None}, 'registered_name': None, 'build_config': {'input_shape': (None, 128)}}]}\n"
     ]
    }
   ],
   "source": [
    "config_dict = conv_model.get_config()\n",
    "\n",
    "print(config_dict)\n",
    "\n",
    "with open(\"config_model.json\", \"w\") as outfile:\n",
    "    json.dump(config_dict, outfile)"
   ]
  },
  {
   "cell_type": "markdown",
   "metadata": {},
   "source": [
    "Excelente, ahora tenemos un archivo json llamado `config_model.json` el cual ha guarado toda la arquitectura con la mejor configuración posible para nuestro modelo.\n",
    "\n",
    "Ahora podemos seguir con los conocimientos que ya conocemos para con base en dicha arquitectura y ya con el modelo compilado utilizarlo para entrenarlo desde 0 con nuestro `train_generator` y utilizar `callbacks` para monitorear el mismo:\n"
   ]
  },
  {
   "cell_type": "code",
   "execution_count": 30,
   "metadata": {},
   "outputs": [
    {
     "name": "stdout",
     "output_type": "stream",
     "text": [
      "Epoch 1/10\n",
      "391/391 [==============================] - ETA: 0s - loss: 0.2287 - accuracy: 0.9201\n",
      "Epoch 1: val_accuracy improved from -inf to 0.96160, saving model to ../model\\best_model_hyper.keras\n",
      "391/391 [==============================] - 31s 77ms/step - loss: 0.2287 - accuracy: 0.9201 - val_loss: 0.1196 - val_accuracy: 0.9616\n",
      "Epoch 2/10\n",
      "391/391 [==============================] - ETA: 0s - loss: 0.1225 - accuracy: 0.9599\n",
      "Epoch 2: val_accuracy improved from 0.96160 to 0.96960, saving model to ../model\\best_model_hyper.keras\n",
      "391/391 [==============================] - 29s 75ms/step - loss: 0.1225 - accuracy: 0.9599 - val_loss: 0.0952 - val_accuracy: 0.9696\n",
      "Epoch 3/10\n",
      "391/391 [==============================] - ETA: 0s - loss: 0.1028 - accuracy: 0.9668\n",
      "Epoch 3: val_accuracy did not improve from 0.96960\n",
      "391/391 [==============================] - 29s 74ms/step - loss: 0.1028 - accuracy: 0.9668 - val_loss: 0.1081 - val_accuracy: 0.9660\n",
      "Epoch 4/10\n",
      "391/391 [==============================] - ETA: 0s - loss: 0.0923 - accuracy: 0.9703\n",
      "Epoch 4: val_accuracy did not improve from 0.96960\n",
      "391/391 [==============================] - 29s 74ms/step - loss: 0.0923 - accuracy: 0.9703 - val_loss: 0.1111 - val_accuracy: 0.9649\n",
      "Epoch 5/10\n",
      "391/391 [==============================] - ETA: 0s - loss: 0.0869 - accuracy: 0.9726\n",
      "Epoch 5: val_accuracy improved from 0.96960 to 0.96973, saving model to ../model\\best_model_hyper.keras\n",
      "391/391 [==============================] - 30s 77ms/step - loss: 0.0869 - accuracy: 0.9726 - val_loss: 0.0955 - val_accuracy: 0.9697\n",
      "Epoch 6/10\n",
      "391/391 [==============================] - ETA: 0s - loss: 0.0819 - accuracy: 0.9742\n",
      "Epoch 6: val_accuracy improved from 0.96973 to 0.97453, saving model to ../model\\best_model_hyper.keras\n",
      "391/391 [==============================] - 29s 75ms/step - loss: 0.0819 - accuracy: 0.9742 - val_loss: 0.0815 - val_accuracy: 0.9745\n",
      "Epoch 7/10\n",
      "391/391 [==============================] - ETA: 0s - loss: 0.0778 - accuracy: 0.9754\n",
      "Epoch 7: val_accuracy did not improve from 0.97453\n",
      "391/391 [==============================] - 29s 75ms/step - loss: 0.0778 - accuracy: 0.9754 - val_loss: 0.0977 - val_accuracy: 0.9689\n",
      "Epoch 8/10\n",
      "391/391 [==============================] - ETA: 0s - loss: 0.0728 - accuracy: 0.9777\n",
      "Epoch 8: val_accuracy did not improve from 0.97453\n",
      "391/391 [==============================] - 29s 74ms/step - loss: 0.0728 - accuracy: 0.9777 - val_loss: 0.0990 - val_accuracy: 0.9723\n",
      "Epoch 9/10\n",
      "391/391 [==============================] - ETA: 0s - loss: 0.0702 - accuracy: 0.9787\n",
      "Epoch 9: val_accuracy did not improve from 0.97453\n",
      "391/391 [==============================] - 29s 74ms/step - loss: 0.0702 - accuracy: 0.9787 - val_loss: 0.0868 - val_accuracy: 0.9729\n"
     ]
    }
   ],
   "source": [
    "callback = EarlyStopping(monitor=\"val_accuracy\", patience=3, mode=\"auto\")\n",
    "\n",
    "checkpoint = ModelCheckpoint(\n",
    "    filepath=\"../model/best_model_hyper.keras\",\n",
    "    save_best_only=True,\n",
    "    save_weights_only=False,\n",
    "    mode=\"auto\",\n",
    "    verbose=1,\n",
    "    monitor=\"val_accuracy\",\n",
    ")\n",
    "\n",
    "history = conv_model.fit(\n",
    "    train_generator,\n",
    "    epochs=10,\n",
    "    validation_data=validation_generator,\n",
    "    batch_size=64,\n",
    "    callbacks=[callback, checkpoint],\n",
    ")"
   ]
  },
  {
   "cell_type": "markdown",
   "metadata": {},
   "source": [
    "Graficamos los resultados y evaluamos en el `test_generator`\n"
   ]
  },
  {
   "cell_type": "code",
   "execution_count": 31,
   "metadata": {},
   "outputs": [
    {
     "data": {
      "image/png": "[encoded data removed]",
      "text/plain": [
       "<Figure size 800x500 with 2 Axes>"
      ]
     },
     "metadata": {},
     "output_type": "display_data"
    },
    {
     "name": "stdout",
     "output_type": "stream",
     "text": [
      "98/98 [==============================] - 7s 72ms/step - loss: 0.0687 - accuracy: 0.9799\n"
     ]
    }
   ],
   "source": [
    "plot_results(history, \"accuracy\")\n",
    "\n",
    "results = conv_model.evaluate(test_generator)"
   ]
  },
  {
   "cell_type": "markdown",
   "metadata": {},
   "source": [
    "# Almacenamiento y carga de modelos: pesos y arquitectura\n"
   ]
  },
  {
   "cell_type": "markdown",
   "metadata": {},
   "source": [
    "Estas serán usadas para guardar la arquitectura del modelo y cargar apropiadamente el modelo.\n",
    "\n",
    "Ahora podemos definir sencillamente la arquitectura del modelo:\n"
   ]
  },
  {
   "cell_type": "code",
   "execution_count": 11,
   "metadata": {},
   "outputs": [],
   "source": [
    "def conv_architecture(input_shape, n_clases):\n",
    "    model = Sequential()\n",
    "    model.add(\n",
    "        Conv2D(\n",
    "            filters=128, kernel_size=(3, 3), activation=\"relu\", input_shape=input_shape\n",
    "        )\n",
    "    )\n",
    "    model.add(MaxPool2D(pool_size=(2, 2)))\n",
    "    model.add(Flatten())\n",
    "    model.add(Dense(256, activation=\"relu\", kernel_regularizer=l2(1e-5)))\n",
    "    model.add(Dropout(0.2))\n",
    "    model.add(Dense(128, activation=\"relu\", kernel_regularizer=l2(1e-5)))\n",
    "    model.add(Dropout(0.2))\n",
    "    model.add(Dense(n_clases, activation=\"softmax\"))\n",
    "    print(model.summary())\n",
    "    return model"
   ]
  },
  {
   "cell_type": "markdown",
   "metadata": {},
   "source": [
    "Y aquí viene la parte interesante, vamos a crear una función para generar los archivos de `arquitectura` y `pesos` del modelo:\n"
   ]
  },
  {
   "cell_type": "code",
   "execution_count": 12,
   "metadata": {},
   "outputs": [],
   "source": [
    "def generate_weights(\n",
    "    classes, batch_size, train_generator, validation_generator, test_generator\n",
    "):\n",
    "    conv_model = conv_architecture(input_shape=(28, 28, 1), n_clases=len(classes))\n",
    "\n",
    "    config_dict = conv_model.get_config()\n",
    "\n",
    "    with open(\"../model/config_model.json\", \"w\") as outfile:\n",
    "        json.dump(config_dict, outfile)\n",
    "\n",
    "    conv_model.compile(\n",
    "        optimizer=\"adam\", loss=\"categorical_crossentropy\", metrics=\"accuracy\"\n",
    "    )\n",
    "\n",
    "    conv_model.fit(\n",
    "        train_generator,\n",
    "        epochs=5,\n",
    "        validation_data=validation_generator,\n",
    "        batch_size=batch_size,\n",
    "    )\n",
    "\n",
    "    conv_model.evaluate(test_generator)\n",
    "\n",
    "    conv_model.save_weights(\"../model/onlyweights.keras\")"
   ]
  },
  {
   "cell_type": "markdown",
   "metadata": {},
   "source": [
    "Una vez creado el conv_model desde la función conv_architecture podemos acceder a su configuración con el método get_config() esto nos regresa un diccionario con la configuración del modelo el cual podemos guardar en formato json, en este caso con el nombre de config_model.json. Después debemos compilar el modelo y ponerlo a entrenar como siempre lo hemos hecho. Finalmente podemos evaluar el rendimiento del modelo y salvar los pesos con el método save_weights(weights_name.h5)\n"
   ]
  },
  {
   "cell_type": "markdown",
   "metadata": {},
   "source": [
    "Ahora podemos crear una función que cargue los pesos y la arquitectura del modelo:\n"
   ]
  },
  {
   "cell_type": "code",
   "execution_count": 13,
   "metadata": {},
   "outputs": [],
   "source": [
    "def load_model_from_architecture_and_weights(architecture, weights) -> Model:\n",
    "    json_config = json.load(open(architecture))\n",
    "    new_model = Sequential.from_config(json_config)\n",
    "    new_model.load_weights(weights)\n",
    "    new_model.compile(\n",
    "        optimizer=\"adam\", loss=\"categorical_crossentropy\", metrics=\"accuracy\"\n",
    "    )\n",
    "    return new_model"
   ]
  },
  {
   "cell_type": "code",
   "execution_count": 15,
   "metadata": {},
   "outputs": [
    {
     "name": "stdout",
     "output_type": "stream",
     "text": [
      "WARNING:tensorflow:From c:\\Users\\mike\\Desktop\\redes_neuronales_tf\\venv\\Lib\\site-packages\\keras\\src\\backend.py:873: The name tf.get_default_graph is deprecated. Please use tf.compat.v1.get_default_graph instead.\n",
      "\n",
      "WARNING:tensorflow:From c:\\Users\\mike\\Desktop\\redes_neuronales_tf\\venv\\Lib\\site-packages\\keras\\src\\layers\\pooling\\max_pooling2d.py:161: The name tf.nn.max_pool is deprecated. Please use tf.nn.max_pool2d instead.\n",
      "\n",
      "Model: \"sequential\"\n",
      "_________________________________________________________________\n",
      " Layer (type)                Output Shape              Param #   \n",
      "=================================================================\n",
      " conv2d (Conv2D)             (None, 26, 26, 128)       1280      \n",
      "                                                                 \n",
      " max_pooling2d (MaxPooling2  (None, 13, 13, 128)       0         \n",
      " D)                                                              \n",
      "                                                                 \n",
      " flatten (Flatten)           (None, 21632)             0         \n",
      "                                                                 \n",
      " dense (Dense)               (None, 256)               5538048   \n",
      "                                                                 \n",
      " dropout (Dropout)           (None, 256)               0         \n",
      "                                                                 \n",
      " dense_1 (Dense)             (None, 128)               32896     \n",
      "                                                                 \n",
      " dropout_1 (Dropout)         (None, 128)               0         \n",
      "                                                                 \n",
      " dense_2 (Dense)             (None, 5)                 645       \n",
      "                                                                 \n",
      "=================================================================\n",
      "Total params: 5572869 (21.26 MB)\n",
      "Trainable params: 5572869 (21.26 MB)\n",
      "Non-trainable params: 0 (0.00 Byte)\n",
      "_________________________________________________________________\n",
      "None\n",
      "WARNING:tensorflow:From c:\\Users\\mike\\Desktop\\redes_neuronales_tf\\venv\\Lib\\site-packages\\keras\\src\\optimizers\\__init__.py:309: The name tf.train.Optimizer is deprecated. Please use tf.compat.v1.train.Optimizer instead.\n",
      "\n",
      "Epoch 1/5\n",
      "WARNING:tensorflow:From c:\\Users\\mike\\Desktop\\redes_neuronales_tf\\venv\\Lib\\site-packages\\keras\\src\\utils\\tf_utils.py:492: The name tf.ragged.RaggedTensorValue is deprecated. Please use tf.compat.v1.ragged.RaggedTensorValue instead.\n",
      "\n",
      "WARNING:tensorflow:From c:\\Users\\mike\\Desktop\\redes_neuronales_tf\\venv\\Lib\\site-packages\\keras\\src\\engine\\base_layer_utils.py:384: The name tf.executing_eagerly_outside_functions is deprecated. Please use tf.compat.v1.executing_eagerly_outside_functions instead.\n",
      "\n",
      "391/391 [==============================] - 38s 96ms/step - loss: 0.1957 - accuracy: 0.9325 - val_loss: 0.1013 - val_accuracy: 0.9685\n",
      "Epoch 2/5\n",
      "391/391 [==============================] - 37s 94ms/step - loss: 0.1122 - accuracy: 0.9652 - val_loss: 0.0916 - val_accuracy: 0.9728\n",
      "Epoch 3/5\n",
      "391/391 [==============================] - 36s 93ms/step - loss: 0.1039 - accuracy: 0.9693 - val_loss: 0.0980 - val_accuracy: 0.9712\n",
      "Epoch 4/5\n",
      "391/391 [==============================] - 37s 94ms/step - loss: 0.1012 - accuracy: 0.9701 - val_loss: 0.1008 - val_accuracy: 0.9699\n",
      "Epoch 5/5\n",
      "391/391 [==============================] - 36s 93ms/step - loss: 0.0950 - accuracy: 0.9724 - val_loss: 0.0991 - val_accuracy: 0.9729\n",
      "98/98 [==============================] - 4s 44ms/step - loss: 0.0836 - accuracy: 0.9774\n"
     ]
    }
   ],
   "source": [
    "generate_weights(\n",
    "    classes=classes,\n",
    "    batch_size=64,\n",
    "    train_generator=train_generator,\n",
    "    validation_generator=validation_generator,\n",
    "    test_generator=test_generator,\n",
    ")"
   ]
  },
  {
   "cell_type": "markdown",
   "metadata": {},
   "source": [
    "Vemos que algo que en ningún momento se guardó fue la información de compilado del modelo, entonces debemos volver a compilar el modelo idealmente de la misma forma en la que lo guardamos.\n"
   ]
  },
  {
   "cell_type": "code",
   "execution_count": 17,
   "metadata": {},
   "outputs": [
    {
     "name": "stdout",
     "output_type": "stream",
     "text": [
      "From Loaded:\n",
      "98/98 [==============================] - 5s 45ms/step - loss: 0.0836 - accuracy: 0.9774\n"
     ]
    },
    {
     "data": {
      "text/plain": [
       "[0.0835970863699913, 0.9774399995803833]"
      ]
     },
     "execution_count": 17,
     "metadata": {},
     "output_type": "execute_result"
    }
   ],
   "source": [
    "loaded_model = load_model_from_architecture_and_weights(\n",
    "    \"../model/config_model.json\", \"../model/onlyweights.keras\"\n",
    ")\n",
    "\n",
    "print(\"From Loaded:\")\n",
    "\n",
    "loaded_model.evaluate(test_generator)"
   ]
  },
  {
   "cell_type": "markdown",
   "metadata": {},
   "source": [
    "# Criterios para almacenar los modelos\n",
    "\n",
    "En la práctica real, normalmente NO almacenamos por separado la arquitectura de los pesos del modelo. Keras ofrece varias formas de almacenar esta información, por un lado, tenemos los métodos `save()` y `load_model()` que nos ayudaran a guardar y cargar nuestros modelos completos. Por otro lado, podemos usar el `Callback` llamado `ModelCheckpoint` para ir guardando el modelo cada que durante una `epoch` consigue obtener mejores resultados. Veamos el caso de ejemplo básico:\n"
   ]
  },
  {
   "cell_type": "markdown",
   "metadata": {},
   "source": [
    "Y ahora hacemos una función para guardar dos modelos best y last\n"
   ]
  },
  {
   "cell_type": "code",
   "execution_count": 25,
   "metadata": {},
   "outputs": [],
   "source": [
    "def save_model(\n",
    "    classes, batch_size, train_generator, validation_generator, test_generator\n",
    "):\n",
    "    conv_model = conv_architecture(input_shape=(28, 28, 1), n_clases=len(classes))\n",
    "\n",
    "    checkpoint = ModelCheckpoint(\n",
    "        filepath=\"../model/best_model_c.keras\",\n",
    "        frecuency=\"epoch\",\n",
    "        save_weights_only=False,\n",
    "        monitor=\"val_accuracy\",\n",
    "        save_best_only=True,\n",
    "        verbose=1,\n",
    "    )\n",
    "\n",
    "    conv_model.compile(\n",
    "        optimizer=\"adam\", loss=\"categorical_crossentropy\", metrics=\"accuracy\"\n",
    "    )\n",
    "\n",
    "    conv_model.fit(\n",
    "        train_generator,\n",
    "        epochs=10,\n",
    "        validation_data=validation_generator,\n",
    "        batch_size=batch_size,\n",
    "        callbacks=[checkpoint],\n",
    "    )\n",
    "\n",
    "    conv_model.evaluate(test_generator)\n",
    "\n",
    "    conv_model.save(\"../model/last_model_c.keras\")"
   ]
  },
  {
   "cell_type": "markdown",
   "metadata": {},
   "source": [
    "Para guardar best usamos el ModelCheckpoint es importante tener activada en True el parámetro save_best_only y para asegurarnos de que se está guardando el modelo completo ponemos en False el parámetro save_only_weights\n",
    "\n",
    "Recordemos que NO necesariamente cada epoch sí o sí va a mejorar el entrenamiento general, esto significa que el modelo generado en la última capa NO necesariamente es el que da el mejor resultado, es una buena práctica guardar de forma manual el último modelo producido con: conv_model.save(models/last_model.h5\n"
   ]
  },
  {
   "cell_type": "markdown",
   "metadata": {},
   "source": [
    "Ahora podemos hacer una función para cargar los modelos de best y last:\n"
   ]
  },
  {
   "cell_type": "code",
   "execution_count": 34,
   "metadata": {},
   "outputs": [],
   "source": [
    "import keras"
   ]
  },
  {
   "cell_type": "code",
   "execution_count": 35,
   "metadata": {},
   "outputs": [],
   "source": [
    "def load_model(model: str) -> Model:\n",
    "    if model == \"best\":\n",
    "        return keras.models.load_model(\"../model/best_model_c.keras\")\n",
    "    elif model == \"last\":\n",
    "        return keras.models.load_model(\"../model/last_model_c.keras\")\n",
    "    else:\n",
    "        print(\"You must select (best or last)\")\n",
    "        return"
   ]
  },
  {
   "cell_type": "code",
   "execution_count": 27,
   "metadata": {},
   "outputs": [
    {
     "name": "stdout",
     "output_type": "stream",
     "text": [
      "Model: \"sequential_1\"\n",
      "_________________________________________________________________\n",
      " Layer (type)                Output Shape              Param #   \n",
      "=================================================================\n",
      " conv2d_1 (Conv2D)           (None, 26, 26, 128)       1280      \n",
      "                                                                 \n",
      " max_pooling2d_1 (MaxPoolin  (None, 13, 13, 128)       0         \n",
      " g2D)                                                            \n",
      "                                                                 \n",
      " flatten_1 (Flatten)         (None, 21632)             0         \n",
      "                                                                 \n",
      " dense_3 (Dense)             (None, 256)               5538048   \n",
      "                                                                 \n",
      " dropout_2 (Dropout)         (None, 256)               0         \n",
      "                                                                 \n",
      " dense_4 (Dense)             (None, 128)               32896     \n",
      "                                                                 \n",
      " dropout_3 (Dropout)         (None, 128)               0         \n",
      "                                                                 \n",
      " dense_5 (Dense)             (None, 5)                 645       \n",
      "                                                                 \n",
      "=================================================================\n",
      "Total params: 5572869 (21.26 MB)\n",
      "Trainable params: 5572869 (21.26 MB)\n",
      "Non-trainable params: 0 (0.00 Byte)\n",
      "_________________________________________________________________\n",
      "None\n",
      "Epoch 1/10\n",
      "391/391 [==============================] - ETA: 0s - loss: 0.1948 - accuracy: 0.9333\n",
      "Epoch 1: val_accuracy improved from -inf to 0.96640, saving model to ../model\\best_model_c.keras\n",
      "391/391 [==============================] - 37s 93ms/step - loss: 0.1948 - accuracy: 0.9333 - val_loss: 0.1086 - val_accuracy: 0.9664\n",
      "Epoch 2/10\n",
      "391/391 [==============================] - ETA: 0s - loss: 0.1176 - accuracy: 0.9635\n",
      "Epoch 2: val_accuracy improved from 0.96640 to 0.96973, saving model to ../model\\best_model_c.keras\n",
      "391/391 [==============================] - 37s 94ms/step - loss: 0.1176 - accuracy: 0.9635 - val_loss: 0.0992 - val_accuracy: 0.9697\n",
      "Epoch 3/10\n",
      "391/391 [==============================] - ETA: 0s - loss: 0.1059 - accuracy: 0.9672\n",
      "Epoch 3: val_accuracy improved from 0.96973 to 0.97040, saving model to ../model\\best_model_c.keras\n",
      "391/391 [==============================] - 37s 94ms/step - loss: 0.1059 - accuracy: 0.9672 - val_loss: 0.1049 - val_accuracy: 0.9704\n",
      "Epoch 4/10\n",
      "391/391 [==============================] - ETA: 0s - loss: 0.1013 - accuracy: 0.9693\n",
      "Epoch 4: val_accuracy did not improve from 0.97040\n",
      "391/391 [==============================] - 35s 90ms/step - loss: 0.1013 - accuracy: 0.9693 - val_loss: 0.1083 - val_accuracy: 0.9687\n",
      "Epoch 5/10\n",
      "391/391 [==============================] - ETA: 0s - loss: 0.0955 - accuracy: 0.9725\n",
      "Epoch 5: val_accuracy did not improve from 0.97040\n",
      "391/391 [==============================] - 36s 91ms/step - loss: 0.0955 - accuracy: 0.9725 - val_loss: 0.1083 - val_accuracy: 0.9672\n",
      "Epoch 6/10\n",
      "391/391 [==============================] - ETA: 0s - loss: 0.0940 - accuracy: 0.9733\n",
      "Epoch 6: val_accuracy improved from 0.97040 to 0.97280, saving model to ../model\\best_model_c.keras\n",
      "391/391 [==============================] - 37s 94ms/step - loss: 0.0940 - accuracy: 0.9733 - val_loss: 0.1002 - val_accuracy: 0.9728\n",
      "Epoch 7/10\n",
      "391/391 [==============================] - ETA: 0s - loss: 0.0888 - accuracy: 0.9751\n",
      "Epoch 7: val_accuracy improved from 0.97280 to 0.97413, saving model to ../model\\best_model_c.keras\n",
      "391/391 [==============================] - 36s 93ms/step - loss: 0.0888 - accuracy: 0.9751 - val_loss: 0.0989 - val_accuracy: 0.9741\n",
      "Epoch 8/10\n",
      "391/391 [==============================] - ETA: 0s - loss: 0.0857 - accuracy: 0.9752\n",
      "Epoch 8: val_accuracy did not improve from 0.97413\n",
      "391/391 [==============================] - 37s 94ms/step - loss: 0.0857 - accuracy: 0.9752 - val_loss: 0.1063 - val_accuracy: 0.9701\n",
      "Epoch 9/10\n",
      "391/391 [==============================] - ETA: 0s - loss: 0.0843 - accuracy: 0.9768\n",
      "Epoch 9: val_accuracy did not improve from 0.97413\n",
      "391/391 [==============================] - 36s 93ms/step - loss: 0.0843 - accuracy: 0.9768 - val_loss: 0.0969 - val_accuracy: 0.9736\n",
      "Epoch 10/10\n",
      "391/391 [==============================] - ETA: 0s - loss: 0.0811 - accuracy: 0.9775\n",
      "Epoch 10: val_accuracy did not improve from 0.97413\n",
      "391/391 [==============================] - 36s 91ms/step - loss: 0.0811 - accuracy: 0.9775 - val_loss: 0.1045 - val_accuracy: 0.9711\n",
      "98/98 [==============================] - 4s 42ms/step - loss: 0.0833 - accuracy: 0.9772\n",
      "You must select (best or last)\n",
      "BEST:\n"
     ]
    },
    {
     "ename": "AttributeError",
     "evalue": "'NoneType' object has no attribute 'evaluate'",
     "output_type": "error",
     "traceback": [
      "\u001b[1;31m---------------------------------------------------------------------------\u001b[0m",
      "\u001b[1;31mAttributeError\u001b[0m                            Traceback (most recent call last)",
      "Cell \u001b[1;32mIn[27], line 11\u001b[0m\n\u001b[0;32m      9\u001b[0m best_model \u001b[38;5;241m=\u001b[39m load_model(model\u001b[38;5;241m=\u001b[39m\u001b[38;5;124m\"\u001b[39m\u001b[38;5;124mbest\u001b[39m\u001b[38;5;124m\"\u001b[39m)\n\u001b[0;32m     10\u001b[0m \u001b[38;5;28mprint\u001b[39m(\u001b[38;5;124m\"\u001b[39m\u001b[38;5;124mBEST:\u001b[39m\u001b[38;5;124m\"\u001b[39m)\n\u001b[1;32m---> 11\u001b[0m \u001b[43mbest_model\u001b[49m\u001b[38;5;241;43m.\u001b[39;49m\u001b[43mevaluate\u001b[49m(test_generator)\n\u001b[0;32m     13\u001b[0m last_model \u001b[38;5;241m=\u001b[39m load_model(model\u001b[38;5;241m=\u001b[39m\u001b[38;5;124m\"\u001b[39m\u001b[38;5;124mlast\u001b[39m\u001b[38;5;124m\"\u001b[39m)\n\u001b[0;32m     14\u001b[0m \u001b[38;5;28mprint\u001b[39m(\u001b[38;5;124m\"\u001b[39m\u001b[38;5;124mLAST: \u001b[39m\u001b[38;5;124m\"\u001b[39m)\n",
      "\u001b[1;31mAttributeError\u001b[0m: 'NoneType' object has no attribute 'evaluate'"
     ]
    }
   ],
   "source": [
    "save_model(\n",
    "    classes=classes,\n",
    "    batch_size=16,\n",
    "    train_generator=train_generator,\n",
    "    validation_generator=validation_generator,\n",
    "    test_generator=test_generator,\n",
    ")"
   ]
  },
  {
   "cell_type": "code",
   "execution_count": 37,
   "metadata": {},
   "outputs": [
    {
     "name": "stdout",
     "output_type": "stream",
     "text": [
      "BEST:\n",
      "98/98 [==============================] - 4s 44ms/step - loss: 0.0826 - accuracy: 0.9778\n",
      "LAST: \n",
      "98/98 [==============================] - 4s 42ms/step - loss: 0.0833 - accuracy: 0.9772\n"
     ]
    },
    {
     "data": {
      "text/plain": [
       "[0.08327369391918182, 0.9771999716758728]"
      ]
     },
     "execution_count": 37,
     "metadata": {},
     "output_type": "execute_result"
    }
   ],
   "source": [
    "best_model = load_model(model=\"best\")\n",
    "print(\"BEST:\")\n",
    "best_model.evaluate(test_generator)\n",
    "\n",
    "last_model = load_model(model=\"last\")\n",
    "print(\"LAST: \")\n",
    "last_model.evaluate(test_generator)"
   ]
  },
  {
   "cell_type": "markdown",
   "metadata": {},
   "source": [
    "Cómo es de esperarse, el mejor modelo tuvo un mejor desempeño que el último.\n"
   ]
  }
 ],
 "metadata": {
  "kernelspec": {
   "display_name": "template",
   "language": "python",
   "name": "python3"
  },
  "language_info": {
   "codemirror_mode": {
    "name": "ipython",
    "version": 3
   },
   "file_extension": ".py",
   "mimetype": "text/x-python",
   "name": "python",
   "nbconvert_exporter": "python",
   "pygments_lexer": "ipython3",
   "version": "3.11.8"
  }
 },
 "nbformat": 4,
 "nbformat_minor": 2
}
