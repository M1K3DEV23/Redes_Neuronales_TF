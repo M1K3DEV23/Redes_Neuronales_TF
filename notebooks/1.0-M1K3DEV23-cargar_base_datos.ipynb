{
 "cells": [
  {
   "cell_type": "markdown",
   "metadata": {},
   "source": [
    "# Cómo cargar bases de datos JSON\n"
   ]
  },
  {
   "cell_type": "code",
   "execution_count": 1,
   "metadata": {},
   "outputs": [],
   "source": [
    "%load_ext autoreload\n",
    "%autoreload 3"
   ]
  },
  {
   "cell_type": "code",
   "execution_count": 2,
   "metadata": {},
   "outputs": [],
   "source": [
    "import os\n",
    "import sys\n",
    "\n",
    "sys.path.append(os.path.dirname(os.path.abspath(os.path.abspath(\"\"))))"
   ]
  },
  {
   "cell_type": "markdown",
   "metadata": {},
   "source": [
    "Analicemos brevemente el archivo data.json\n",
    "\n",
    "```json\n",
    "{\"content\": \"https://storage.googleapis.com/platzi-tf2/img_mnist/29_B.jpg\",\"label\":\"b\"}\n",
    "{\"content\": \"https://storage.googleapis.com/platzi-tf2/img_mnist/30_B.jpg\",\"label\":\"b\"}\n",
    "{\"content\": \"https://storage.googleapis.com/platzi-tf2/img_mnist/95_B.jpg\",\"label\":\"b\"}\n",
    "{\"content\": \"https://storage.googleapis.com/platzi-tf2/img_mnist/58_A.jpg\",\"label\":\"a\"}\n",
    "{\"content\": \"https://storage.googleapis.com/platzi-tf2/img_mnist/50_A.jpg\",\"label\":\"a\"}\n",
    "{\"content\": \"https://storage.googleapis.com/platzi-tf2/img_mnist/46_A.jpg\",\"label\":\"a\"}\n",
    "{\"content\": \"https://storage.googleapis.com/platzi-tf2/img_mnist/3_C.jpg\",\"label\":\"c\"}\n",
    "{\"content\": \"https://storage.googleapis.com/platzi-tf2/img_mnist/32_C.jpg\",\"label\":\"c\"}\n",
    "{\"content\": \"https://storage.googleapis.com/platzi-tf2/img_mnist/2_C.jpg\",\"label\":\"c\"}\n",
    "```\n"
   ]
  },
  {
   "cell_type": "markdown",
   "metadata": {},
   "source": [
    "Básicamente, es una secuencia de diccionarios, que tiene como llaves: `content` para mostrar el URL de la imagen y `label` el cual contiene la clasificación de dicha imagen. Observamos que como tal NO es el formato más correcto de json, puesto que para que puediera ser cargado por `json.load` el archivo debería indicar que es una lista con `[]` y cada elemento debería ir separado por `,` entonces debemos leer este archivo de una forma ligeramente diferente.\n"
   ]
  },
  {
   "cell_type": "markdown",
   "metadata": {},
   "source": [
    "## Ejemplo en código:\n",
    "\n",
    "El flujo más simple de trabajo para este ejemplo es:\n",
    "\n",
    "1. Leer el archivo data.json\n",
    "2. Para cada url de content:\n",
    "\n",
    "- hacer un request para recibir la imagen\n",
    "- transformar el response en un numpy array\n",
    "\n",
    "3. Mostrar un ejemplo de la imagen y el label recibido\n"
   ]
  },
  {
   "cell_type": "markdown",
   "metadata": {},
   "source": [
    "## 1: Importamos bibliotecas necesarias\n"
   ]
  },
  {
   "cell_type": "code",
   "execution_count": 3,
   "metadata": {},
   "outputs": [],
   "source": [
    "from io import BytesIO\n",
    "from json import loads\n",
    "\n",
    "import matplotlib.pyplot as plt\n",
    "import numpy as np\n",
    "import requests\n",
    "from PIL import Image"
   ]
  },
  {
   "cell_type": "markdown",
   "metadata": {},
   "source": [
    "## 2: Leemos el archivo data.json\n",
    "\n",
    "Lo podemos leer como un texto plano, y por cada línea dentro del archivo decodificar dicha linea como json ocupando su método `loads`\n"
   ]
  },
  {
   "cell_type": "code",
   "execution_count": null,
   "metadata": {},
   "outputs": [],
   "source": [
    "url = \"../data/databasesLoadData/sign_mnist_json/data.json\""
   ]
  },
  {
   "cell_type": "code",
   "execution_count": null,
   "metadata": {},
   "outputs": [],
   "source": [
    "with open(url, \"r\", encoding=\"utf-8\") as file:\n",
    "    data = [loads(line) for line in file.readlines()]"
   ]
  },
  {
   "cell_type": "code",
   "execution_count": null,
   "metadata": {},
   "outputs": [],
   "source": [
    "print(f\"{len(data)} Imagenes cargadas\")"
   ]
  },
  {
   "cell_type": "markdown",
   "metadata": {},
   "source": [
    "## 3: Acceder a cada elemento dentro de `data`\n",
    "\n",
    "Como ahora cada línea es un archivo json, puedo acceder al valor de sus llaves utilizando get\n"
   ]
  },
  {
   "cell_type": "code",
   "execution_count": null,
   "metadata": {},
   "outputs": [],
   "source": [
    "X, y = [], []\n",
    "\n",
    "for example in data:\n",
    "    print(example)\n",
    "    url_image = example.get(\"content\", 0)\n",
    "    label = example.get(\"label\", 0)"
   ]
  },
  {
   "cell_type": "markdown",
   "metadata": {},
   "source": [
    "## 4: Descargando cada imagen y convirtiéndola a un numpy array\n"
   ]
  },
  {
   "cell_type": "code",
   "execution_count": null,
   "metadata": {},
   "outputs": [],
   "source": [
    "# Peticion al servidor\n",
    "\n",
    "response = requests.get(url_image).content\n",
    "print(type(response), response)\n",
    "\n",
    "# Transformando 'bytes' en PIL Image\n",
    "pil_image = Image.open(BytesIO(response))\n",
    "\n",
    "print(pil_image)\n",
    "\n",
    "# Transformando PIL Image en un array de numpy\n",
    "img = np.asarray(pil_image).reshape(28, 28)\n",
    "\n",
    "X.append(img)\n",
    "\n",
    "y.append(label)"
   ]
  },
  {
   "cell_type": "markdown",
   "metadata": {},
   "source": [
    "Aquí adicionalmente, añadimos a las listas `X`, `y` los valores decodificados de las imágenes y labels pertinentes.\n"
   ]
  },
  {
   "cell_type": "markdown",
   "metadata": {},
   "source": [
    "## 5: Mostrando un ejemplo de imagen clasificada\n"
   ]
  },
  {
   "cell_type": "code",
   "execution_count": null,
   "metadata": {},
   "outputs": [],
   "source": [
    "plt.imshow(img, cmap=\"gray\")\n",
    "plt.title(f\"Label: {label}\")\n",
    "plt.xticks([])\n",
    "plt.yticks([])\n",
    "plt.show()"
   ]
  },
  {
   "cell_type": "markdown",
   "metadata": {},
   "source": [
    "# Cargar bases de datos CSV y BASE 64\n"
   ]
  },
  {
   "cell_type": "markdown",
   "metadata": {},
   "source": [
    "## Ejemplo de Base 64\n",
    "\n",
    "Base64 es una forma de codificar datos binarios en caracteres ASCII para que puedan ser transmitidos a través de canales que no admiten datos binarios, como el correo electrónico o la web. En Base64, cada conjunto de tres bytes (24 bits) se convierte en una cadena de cuatro caracteres ASCII.\n",
    "\n",
    "Base64 se utiliza para enviar archivos adjuntos de correo electrónico, imágenes y otros tipos de datos a través de Internet. Por ejemplo, si tienes una imagen en formato binario, puedes convertirla en Base64 y luego enviarla en un correo electrónico como una cadena de texto. Cuando el destinatario recibe el correo electrónico, puede decodificar la cadena Base64 y obtener la imagen original.\n",
    "\n",
    "Base64 es útil en situaciones donde los datos binarios no pueden ser transmitidos directamente. Sin embargo, es importante tener en cuenta que la codificación Base64 aumenta el tamaño de los datos en aproximadamente un tercio. Además, Base64 no proporciona ningún tipo de encriptación o seguridad, por lo que no se debe utilizar como una forma de proteger datos sensibles.\n"
   ]
  },
  {
   "cell_type": "markdown",
   "metadata": {},
   "source": [
    "Por experiencia laboral Base64 también es un formato muy útil para enviar imágenes a ser procesadas por un API, tiene sentido que esta codificación b64 sea utilizada en un endpoint para analizar dicha imagen.\n",
    "\n",
    "Ahora que ya entendemos un poco más acerca de Base 64, veamos un ejemplo de nuestra base de datos data.json:\n",
    "\n",
    "```JSON\n",
    "{\n",
    "\"b\": \"/9j/4AAQSkZJRgABAQAAAQABAAD/2wBDAAgGBgcGBQgHBwcJCQgKDBQNDAsLDBkSEw8UHRofHh0aHBwgJC4nICIsIxwcKDcpLDAxNDQ0Hyc5PTgyPC4zNDL/wAALCAAcABwBAREA/8QAHwAAAQUBAQEBAQEAAAAAAAAAAAECAwQFBgcICQoL/8QAtRAAAgEDAwIEAwUFBAQAAAF9AQIDAAQRBRIhMUEGE1FhByJxFDKBkaEII0KxwRVS0fAkM2JyggkKFhcYGRolJicoKSo0NTY3ODk6Q0RFRkdISUpTVFVWV1hZWmNkZWZnaGlqc3R1dnd4eXqDhIWGh4iJipKTlJWWl5iZmqKjpKWmp6ipqrKztLW2t7i5usLDxMXGx8jJytLT1NXW19jZ2uHi4+Tl5ufo6erx8vP09fb3+Pn6/9oACAEBAAA/AOhS246VBdyJbqyDmbaGVSOuWxTUk3XckDKcGVkjI/2VBOf1qcwc9K00i4rnNbCLrcSPMkQKJ97PUNnHHtmrllEf7US3dSJIEklcEdd7DBHtjP5VrGLmrSpxWHewQnxNHNOBsAJOfYZpvh8zXup394xPkKBAg9SDk/lx+db5j5pCcICO+K47X7+cL5uRv2kZxXW6TaRWek20UIIBQOSepZhkk/iasMxDV//Z\"\n",
    "}\n",
    "```\n"
   ]
  },
  {
   "cell_type": "markdown",
   "metadata": {},
   "source": [
    "Nuestro dataset, vuelve a ser un archivo en formato `json`, sin embargo, este es diferente al anterior, ahora en lugar de tener como valores de las llaves la dirección de la imagen y su `label`, ahora tenemos algo más `simplificado`, tenemos únicamente como llave la label de la imagen y como valor la propia imagen pero en formato `b64`.\n"
   ]
  },
  {
   "cell_type": "markdown",
   "metadata": {},
   "source": [
    "## 1: Importando bibliotecas necesarias\n",
    "\n",
    "Vamos a utilizar OpenCv para acceder a un método muy útil imdecode que me permitirá junto con numpy convertir un texto en formato b64 a un numpy array\n"
   ]
  },
  {
   "cell_type": "code",
   "execution_count": 4,
   "metadata": {},
   "outputs": [],
   "source": [
    "import base64\n",
    "from json import load\n",
    "\n",
    "import cv2 as cv"
   ]
  },
  {
   "cell_type": "markdown",
   "metadata": {},
   "source": [
    "## 2: Creamos función auxiliar de conversión b64 a numpy.array\n"
   ]
  },
  {
   "cell_type": "code",
   "execution_count": null,
   "metadata": {},
   "outputs": [],
   "source": [
    "def b64_to_np(b_string: str):\n",
    "    jpg_original = base64.b64decode(b_string)\n",
    "    jpg_as_np = np.frombuffer(jpg_original, dtype=np.uint8)\n",
    "    image_buffer = cv.imdecode(jpg_as_np, flags=1)\n",
    "    return image_buffer"
   ]
  },
  {
   "cell_type": "markdown",
   "metadata": {},
   "source": [
    "## 3: Leemos el archivo data.json b64\n"
   ]
  },
  {
   "cell_type": "code",
   "execution_count": null,
   "metadata": {},
   "outputs": [],
   "source": [
    "with open(\n",
    "    \"../data/databasesLoadData/sign_mnist_base64/data.json\", \"r\", encoding=\"utf-8\"\n",
    ") as file:\n",
    "    data = load(file)\n",
    "\n",
    "    X, y = [], []"
   ]
  },
  {
   "cell_type": "markdown",
   "metadata": {},
   "source": [
    "## 4: Convertimos cada b64 en un numpy array\n"
   ]
  },
  {
   "cell_type": "code",
   "execution_count": null,
   "metadata": {},
   "outputs": [],
   "source": [
    "for example in data:\n",
    "\n",
    "    for label, b_image in data.items():\n",
    "        print(label, \"-\", b_image)\n",
    "        img = b64_to_np(b_image)\n",
    "        X.append(img)\n",
    "        y.append(label)"
   ]
  },
  {
   "cell_type": "markdown",
   "metadata": {},
   "source": [
    "## 5: graficamos para observar el resultado\n"
   ]
  },
  {
   "cell_type": "code",
   "execution_count": null,
   "metadata": {},
   "outputs": [],
   "source": [
    "plt.imshow(img, cmap=\"gray\")\n",
    "plt.title(f\"Label: {label}\")\n",
    "plt.xticks([])\n",
    "plt.yticks([])\n",
    "plt.show()"
   ]
  },
  {
   "cell_type": "markdown",
   "metadata": {},
   "source": [
    "# Ejemplo de CSV\n",
    "\n",
    "Primero familiaricémonos con nuestros datos sign_mnist_test.csv\n"
   ]
  },
  {
   "cell_type": "markdown",
   "metadata": {},
   "source": [
    "## 1: Conozcamos los datos\n"
   ]
  },
  {
   "cell_type": "code",
   "execution_count": 5,
   "metadata": {},
   "outputs": [],
   "source": [
    "import pandas as pd"
   ]
  },
  {
   "cell_type": "code",
   "execution_count": null,
   "metadata": {},
   "outputs": [],
   "source": [
    "data = pd.read_csv(\"../data/databasesLoadData/sign_mnist_train/sign_mnist_train.csv\")\n",
    "sample = len(data)\n",
    "print(f\"Numero de ejemplos: {sample}\")\n",
    "print(data)"
   ]
  },
  {
   "cell_type": "markdown",
   "metadata": {},
   "source": [
    "Podemos observar que la primera columna contiene un `label encoding` de las clases. Mientras que las siguientes columnas son el `flatten` de la imagen (28x28) píxeles.\n"
   ]
  },
  {
   "cell_type": "markdown",
   "metadata": {},
   "source": [
    "## 2. Separamos el dataset en `X` & `y`\n"
   ]
  },
  {
   "cell_type": "code",
   "execution_count": null,
   "metadata": {},
   "outputs": [],
   "source": [
    "y = data[\"label\"].values\n",
    "X = data.drop(\"label\", axis=1).values.reshape((sample, 28, 28))"
   ]
  },
  {
   "cell_type": "markdown",
   "metadata": {},
   "source": [
    "En realidad es todo, pandas almacena los datos como numpy arrays, solo necesitamos acceder a ellos y hacerles un `reshape` indicándole que tenemos `n` imágenes correspondientes al valor de `samples` y que cada imagen es de _(28x28)_\n"
   ]
  },
  {
   "cell_type": "markdown",
   "metadata": {},
   "source": [
    "## 3. Graficamos\n"
   ]
  },
  {
   "cell_type": "code",
   "execution_count": null,
   "metadata": {},
   "outputs": [],
   "source": [
    "plt.imshow(X[4], cmap=\"gray\")\n",
    "plt.title(f\"Label: {label}\")\n",
    "plt.xticks([])\n",
    "plt.yticks([])\n",
    "plt.show()"
   ]
  },
  {
   "cell_type": "markdown",
   "metadata": {},
   "source": [
    "# Preprocesamiento y limpieza de datos\n"
   ]
  },
  {
   "cell_type": "markdown",
   "metadata": {},
   "source": [
    "Vamos a hacer un análisis de datos y limpieza del mismo:\n"
   ]
  },
  {
   "cell_type": "markdown",
   "metadata": {},
   "source": [
    "## 1: Importando bibliotecas\n"
   ]
  },
  {
   "cell_type": "code",
   "execution_count": 32,
   "metadata": {},
   "outputs": [],
   "source": [
    "import seaborn as sns"
   ]
  },
  {
   "cell_type": "markdown",
   "metadata": {},
   "source": [
    "## 2: Leyendo nuestro dataset\n"
   ]
  },
  {
   "cell_type": "code",
   "execution_count": 41,
   "metadata": {},
   "outputs": [
    {
     "name": "stdout",
     "output_type": "stream",
     "text": [
      "       label pixel1 pixel2 pixel3 pixel4 pixel5 pixel6 pixel7 pixel8 pixel9  \\\n",
      "0          3    107    118    127    134    139    143    146    150    153   \n",
      "1          6    155    157    156    156    156    157    156    158    158   \n",
      "2          2    187    188    188    187    187    186    187    188    187   \n",
      "3          2    211    211    212    212    211    210    211    210    210   \n",
      "4         13    164    167    170    172    176    179    180    184    185   \n",
      "...      ...    ...    ...    ...    ...    ...    ...    ...    ...    ...   \n",
      "27450     13    189    189    190    190    192    193    193    193    193   \n",
      "27451     23    151    154    157    158    160    161    163    164    166   \n",
      "27452     18    174    174    174    174    174    175    175    174    173   \n",
      "27453     17    177    181    184    185    187    189    190    191    191   \n",
      "27454     23    179    180    180    180    182    181    182    183    182   \n",
      "\n",
      "       ... pixel775 pixel776 pixel777 pixel778 pixel779 pixel780 pixel781  \\\n",
      "0      ...      207      207      207      207      206      206      206   \n",
      "1      ...       69      149      128       87       94      163      175   \n",
      "2      ...      202      201      200      199      198      199      198   \n",
      "3      ...      235      234      233      231      230      226      225   \n",
      "4      ...       92      105      105      108      133      163      157   \n",
      "...    ...      ...      ...      ...      ...      ...      ...      ...   \n",
      "27450  ...      132      165       99       77       52      200      234   \n",
      "27451  ...      198      198      198      198      198      196      195   \n",
      "27452  ...      121      196      209      208      206      204      203   \n",
      "27453  ...      119       56       27       58      102       79       47   \n",
      "27454  ...      108      132      170      194      214      203      197   \n",
      "\n",
      "      pixel782 pixel783 pixel784  \n",
      "0          204      203      202  \n",
      "1          103      135      149  \n",
      "2          195      194      195  \n",
      "3          222      229      163  \n",
      "4          163      164      179  \n",
      "...        ...      ...      ...  \n",
      "27450      200      222      225  \n",
      "27451      195      195      194  \n",
      "27452      202      200      200  \n",
      "27453       64       87       93  \n",
      "27454      205      209      215  \n",
      "\n",
      "[27455 rows x 785 columns]\n"
     ]
    },
    {
     "name": "stderr",
     "output_type": "stream",
     "text": [
      "C:\\Users\\mike\\AppData\\Local\\Temp\\ipykernel_6808\\1308986316.py:1: DtypeWarning: Columns (1,2,3,4,5,6,7,8,9,10,11,12,13,14,15,16,17,18,19,20,21,22,23,24,25,26,27,28,29,30,31,32,33,34,35,36,37,38,39,40,41,42,43,44,45,46,47,48,49,50,51,52,53,54,55,56,57,58,59,60,61,62,63,64,65,66,67,68,69,70,71,72,73,74,75,76,77,78,79,80,81,82,83,84,85,86,87,88,89,90,91,92,93,94,95,96,97,98,99,100,101,102,103,104,105,106,107,108,109,110,111,112,113,114,115,116,117,118,119,120,121,122,123,124,125,126,127,128,129,130,131,132,133,134,135,136,137,138,139,140,141,142,143,144,145,146,147,148,149,150,151,152,153,154,155,156,157,158,159,160,161,162,163,164,165,166,167,168,169,170,171,172,173,174,175,176,177,178,179,180,181,182,183,184,185,186,187,188,189,190,191,192,193,194,195,196,197,198,199,200,201,202,203,204,205,206,207,208,209,210,211,212,213,214,215,216,217,218,219,220,221,222,223,224,225,226,227,228,229,230,231,232,233,234,235,236,237,238,239,240,241,242,243,244,245,246,247,248,249,250,251,252,253,254,255,256,257,258,259,260,261,262,263,264,265,266,267,268,269,270,271,272,273,274,275,276,277,278,279,280,281,282,283,284,285,286,287,288,289,290,291,292,293,294,295,296,297,298,299,300,301,302,303,304,305,306,307,308,309,310,311,312,313,314,315,316,317,318,319,320,321,322,323,324,325,326,327,328,329,330,331,332,333,334,335,336,337,338,339,340,341,342,343,344,345,346,347,348,349,350,351,352,353,354,355,356,357,358,359,360,361,362,363,364,365,366,367,368,369,370,371,372,373,374,375,376,377,378,379,380,381,382,383,384,385,386,387,388,389,390,391,392,393,394,395,396,397,398,399,400,401,402,403,404,405,406,407,408,409,410,411,412,413,414,415,416,417,418,419,420,421,422,423,424,425,426,427,428,429,430,431,432,433,434,435,436,437,438,439,440,441,442,443,444,445,446,447,448,449,450,451,452,453,454,455,456,457,458,459,460,461,462,463,464,465,466,467,468,469,470,471,472,473,474,475,476,477,478,479,480,481,482,483,484,485,486,487,488,489,490,491,492,493,494,495,496,497,498,499,500,501,502,503,504,505,506,507,508,509,510,511,512,513,514,515,516,517,518,519,520,521,522,523,524,525,526,527,528,529,530,531,532,533,534,535,536,537,538,539,540,541,542,543,544,545,546,547,548,549,550,551,552,553,554,555,556,557,558,559,560,561,562,563,564,565,566,567,568,569,570,571,572,573,574,575,576,577,578,579,580,581,582,583,584,585,586,587,588,589,590,591,592,593,594,595,596,597,598,599,600,601,602,603,604,605,606,607,608,609,610,611,612,613,614,615,616,617,618,619,620,621,622,623,624,625,626,627,628,629,630,631,632,633,634,635,636,637,638,639,640,641,642,643,644,645,646,647,648,649,650,651,652,653,654,655,656,657,658,659,660,661,662,663,664,665,666,667,668,669,670,671,672,673,674,675,676,677,678,679,680,681,682,683,684,685,686,687,688,689,690,691,692,693,694,695,696,697,698,699,700,701,702,703,704,705,706,707,708,709,710,711,712,713,714,715,716,717,718,719,720,721,722,723,724,725,726,727,728,729,730,731,732,733,734,735,736,737,738,739,740,741,742,743,744,745,746,747,748,749,750,751,752,753,754,755,756,757,758,759,760,761,762,763,764,765,766,767,768,769,770,771,772,773,774,775,776,777,778,779,780,781,782,783,784) have mixed types. Specify dtype option on import or set low_memory=False.\n",
      "  train = pd.read_csv(\n"
     ]
    }
   ],
   "source": [
    "train = pd.read_csv(\n",
    "    \"../data/databasesLoadData/sign_mnist_train/sign_mnist_train_clean.csv\"\n",
    ")\n",
    "\n",
    "print(train)"
   ]
  },
  {
   "cell_type": "markdown",
   "metadata": {},
   "source": [
    "¿Cuántas clases tiene nuestro dataset?\n"
   ]
  },
  {
   "cell_type": "code",
   "execution_count": 43,
   "metadata": {},
   "outputs": [
    {
     "data": {
      "text/plain": [
       "27455"
      ]
     },
     "execution_count": 43,
     "metadata": {},
     "output_type": "execute_result"
    }
   ],
   "source": [
    "len(train)"
   ]
  },
  {
   "cell_type": "code",
   "execution_count": 59,
   "metadata": {},
   "outputs": [],
   "source": [
    "y = train[[\"label\"]]\n",
    "X = train.drop(\"label\", axis=1)"
   ]
  },
  {
   "cell_type": "code",
   "execution_count": 60,
   "metadata": {},
   "outputs": [
    {
     "name": "stdout",
     "output_type": "stream",
     "text": [
      "24 [0, 1, 2, 3, 4, 5, 6, 7, 8, 10, 11, 12, 13, 14, 15, 16, 17, 18, 19, 20, 21, 22, 23, 24]\n"
     ]
    }
   ],
   "source": [
    "n_clases = sorted(y[\"label\"].unique())\n",
    "print(len(n_clases), n_clases)"
   ]
  },
  {
   "cell_type": "code",
   "execution_count": 61,
   "metadata": {},
   "outputs": [
    {
     "data": {
      "text/html": [
       "<div>\n",
       "<style scoped>\n",
       "    .dataframe tbody tr th:only-of-type {\n",
       "        vertical-align: middle;\n",
       "    }\n",
       "\n",
       "    .dataframe tbody tr th {\n",
       "        vertical-align: top;\n",
       "    }\n",
       "\n",
       "    .dataframe thead th {\n",
       "        text-align: right;\n",
       "    }\n",
       "</style>\n",
       "<table border=\"1\" class=\"dataframe\">\n",
       "  <thead>\n",
       "    <tr style=\"text-align: right;\">\n",
       "      <th></th>\n",
       "      <th>label</th>\n",
       "    </tr>\n",
       "  </thead>\n",
       "  <tbody>\n",
       "    <tr>\n",
       "      <th>0</th>\n",
       "      <td>3</td>\n",
       "    </tr>\n",
       "    <tr>\n",
       "      <th>1</th>\n",
       "      <td>6</td>\n",
       "    </tr>\n",
       "    <tr>\n",
       "      <th>2</th>\n",
       "      <td>2</td>\n",
       "    </tr>\n",
       "    <tr>\n",
       "      <th>3</th>\n",
       "      <td>2</td>\n",
       "    </tr>\n",
       "    <tr>\n",
       "      <th>4</th>\n",
       "      <td>13</td>\n",
       "    </tr>\n",
       "    <tr>\n",
       "      <th>...</th>\n",
       "      <td>...</td>\n",
       "    </tr>\n",
       "    <tr>\n",
       "      <th>27450</th>\n",
       "      <td>13</td>\n",
       "    </tr>\n",
       "    <tr>\n",
       "      <th>27451</th>\n",
       "      <td>23</td>\n",
       "    </tr>\n",
       "    <tr>\n",
       "      <th>27452</th>\n",
       "      <td>18</td>\n",
       "    </tr>\n",
       "    <tr>\n",
       "      <th>27453</th>\n",
       "      <td>17</td>\n",
       "    </tr>\n",
       "    <tr>\n",
       "      <th>27454</th>\n",
       "      <td>23</td>\n",
       "    </tr>\n",
       "  </tbody>\n",
       "</table>\n",
       "<p>27455 rows × 1 columns</p>\n",
       "</div>"
      ],
      "text/plain": [
       "       label\n",
       "0          3\n",
       "1          6\n",
       "2          2\n",
       "3          2\n",
       "4         13\n",
       "...      ...\n",
       "27450     13\n",
       "27451     23\n",
       "27452     18\n",
       "27453     17\n",
       "27454     23\n",
       "\n",
       "[27455 rows x 1 columns]"
      ]
     },
     "execution_count": 61,
     "metadata": {},
     "output_type": "execute_result"
    }
   ],
   "source": [
    "y"
   ]
  },
  {
   "cell_type": "code",
   "execution_count": 62,
   "metadata": {},
   "outputs": [
    {
     "data": {
      "text/html": [
       "<div>\n",
       "<style scoped>\n",
       "    .dataframe tbody tr th:only-of-type {\n",
       "        vertical-align: middle;\n",
       "    }\n",
       "\n",
       "    .dataframe tbody tr th {\n",
       "        vertical-align: top;\n",
       "    }\n",
       "\n",
       "    .dataframe thead th {\n",
       "        text-align: right;\n",
       "    }\n",
       "</style>\n",
       "<table border=\"1\" class=\"dataframe\">\n",
       "  <thead>\n",
       "    <tr style=\"text-align: right;\">\n",
       "      <th></th>\n",
       "      <th>pixel1</th>\n",
       "      <th>pixel2</th>\n",
       "      <th>pixel3</th>\n",
       "      <th>pixel4</th>\n",
       "      <th>pixel5</th>\n",
       "      <th>pixel6</th>\n",
       "      <th>pixel7</th>\n",
       "      <th>pixel8</th>\n",
       "      <th>pixel9</th>\n",
       "      <th>pixel10</th>\n",
       "      <th>...</th>\n",
       "      <th>pixel775</th>\n",
       "      <th>pixel776</th>\n",
       "      <th>pixel777</th>\n",
       "      <th>pixel778</th>\n",
       "      <th>pixel779</th>\n",
       "      <th>pixel780</th>\n",
       "      <th>pixel781</th>\n",
       "      <th>pixel782</th>\n",
       "      <th>pixel783</th>\n",
       "      <th>pixel784</th>\n",
       "    </tr>\n",
       "  </thead>\n",
       "  <tbody>\n",
       "    <tr>\n",
       "      <th>0</th>\n",
       "      <td>107</td>\n",
       "      <td>118</td>\n",
       "      <td>127</td>\n",
       "      <td>134</td>\n",
       "      <td>139</td>\n",
       "      <td>143</td>\n",
       "      <td>146</td>\n",
       "      <td>150</td>\n",
       "      <td>153</td>\n",
       "      <td>156</td>\n",
       "      <td>...</td>\n",
       "      <td>207</td>\n",
       "      <td>207</td>\n",
       "      <td>207</td>\n",
       "      <td>207</td>\n",
       "      <td>206</td>\n",
       "      <td>206</td>\n",
       "      <td>206</td>\n",
       "      <td>204</td>\n",
       "      <td>203</td>\n",
       "      <td>202</td>\n",
       "    </tr>\n",
       "    <tr>\n",
       "      <th>1</th>\n",
       "      <td>155</td>\n",
       "      <td>157</td>\n",
       "      <td>156</td>\n",
       "      <td>156</td>\n",
       "      <td>156</td>\n",
       "      <td>157</td>\n",
       "      <td>156</td>\n",
       "      <td>158</td>\n",
       "      <td>158</td>\n",
       "      <td>157</td>\n",
       "      <td>...</td>\n",
       "      <td>69</td>\n",
       "      <td>149</td>\n",
       "      <td>128</td>\n",
       "      <td>87</td>\n",
       "      <td>94</td>\n",
       "      <td>163</td>\n",
       "      <td>175</td>\n",
       "      <td>103</td>\n",
       "      <td>135</td>\n",
       "      <td>149</td>\n",
       "    </tr>\n",
       "    <tr>\n",
       "      <th>2</th>\n",
       "      <td>187</td>\n",
       "      <td>188</td>\n",
       "      <td>188</td>\n",
       "      <td>187</td>\n",
       "      <td>187</td>\n",
       "      <td>186</td>\n",
       "      <td>187</td>\n",
       "      <td>188</td>\n",
       "      <td>187</td>\n",
       "      <td>186</td>\n",
       "      <td>...</td>\n",
       "      <td>202</td>\n",
       "      <td>201</td>\n",
       "      <td>200</td>\n",
       "      <td>199</td>\n",
       "      <td>198</td>\n",
       "      <td>199</td>\n",
       "      <td>198</td>\n",
       "      <td>195</td>\n",
       "      <td>194</td>\n",
       "      <td>195</td>\n",
       "    </tr>\n",
       "    <tr>\n",
       "      <th>3</th>\n",
       "      <td>211</td>\n",
       "      <td>211</td>\n",
       "      <td>212</td>\n",
       "      <td>212</td>\n",
       "      <td>211</td>\n",
       "      <td>210</td>\n",
       "      <td>211</td>\n",
       "      <td>210</td>\n",
       "      <td>210</td>\n",
       "      <td>211</td>\n",
       "      <td>...</td>\n",
       "      <td>235</td>\n",
       "      <td>234</td>\n",
       "      <td>233</td>\n",
       "      <td>231</td>\n",
       "      <td>230</td>\n",
       "      <td>226</td>\n",
       "      <td>225</td>\n",
       "      <td>222</td>\n",
       "      <td>229</td>\n",
       "      <td>163</td>\n",
       "    </tr>\n",
       "    <tr>\n",
       "      <th>4</th>\n",
       "      <td>164</td>\n",
       "      <td>167</td>\n",
       "      <td>170</td>\n",
       "      <td>172</td>\n",
       "      <td>176</td>\n",
       "      <td>179</td>\n",
       "      <td>180</td>\n",
       "      <td>184</td>\n",
       "      <td>185</td>\n",
       "      <td>186</td>\n",
       "      <td>...</td>\n",
       "      <td>92</td>\n",
       "      <td>105</td>\n",
       "      <td>105</td>\n",
       "      <td>108</td>\n",
       "      <td>133</td>\n",
       "      <td>163</td>\n",
       "      <td>157</td>\n",
       "      <td>163</td>\n",
       "      <td>164</td>\n",
       "      <td>179</td>\n",
       "    </tr>\n",
       "    <tr>\n",
       "      <th>...</th>\n",
       "      <td>...</td>\n",
       "      <td>...</td>\n",
       "      <td>...</td>\n",
       "      <td>...</td>\n",
       "      <td>...</td>\n",
       "      <td>...</td>\n",
       "      <td>...</td>\n",
       "      <td>...</td>\n",
       "      <td>...</td>\n",
       "      <td>...</td>\n",
       "      <td>...</td>\n",
       "      <td>...</td>\n",
       "      <td>...</td>\n",
       "      <td>...</td>\n",
       "      <td>...</td>\n",
       "      <td>...</td>\n",
       "      <td>...</td>\n",
       "      <td>...</td>\n",
       "      <td>...</td>\n",
       "      <td>...</td>\n",
       "      <td>...</td>\n",
       "    </tr>\n",
       "    <tr>\n",
       "      <th>27450</th>\n",
       "      <td>189</td>\n",
       "      <td>189</td>\n",
       "      <td>190</td>\n",
       "      <td>190</td>\n",
       "      <td>192</td>\n",
       "      <td>193</td>\n",
       "      <td>193</td>\n",
       "      <td>193</td>\n",
       "      <td>193</td>\n",
       "      <td>194</td>\n",
       "      <td>...</td>\n",
       "      <td>132</td>\n",
       "      <td>165</td>\n",
       "      <td>99</td>\n",
       "      <td>77</td>\n",
       "      <td>52</td>\n",
       "      <td>200</td>\n",
       "      <td>234</td>\n",
       "      <td>200</td>\n",
       "      <td>222</td>\n",
       "      <td>225</td>\n",
       "    </tr>\n",
       "    <tr>\n",
       "      <th>27451</th>\n",
       "      <td>151</td>\n",
       "      <td>154</td>\n",
       "      <td>157</td>\n",
       "      <td>158</td>\n",
       "      <td>160</td>\n",
       "      <td>161</td>\n",
       "      <td>163</td>\n",
       "      <td>164</td>\n",
       "      <td>166</td>\n",
       "      <td>167</td>\n",
       "      <td>...</td>\n",
       "      <td>198</td>\n",
       "      <td>198</td>\n",
       "      <td>198</td>\n",
       "      <td>198</td>\n",
       "      <td>198</td>\n",
       "      <td>196</td>\n",
       "      <td>195</td>\n",
       "      <td>195</td>\n",
       "      <td>195</td>\n",
       "      <td>194</td>\n",
       "    </tr>\n",
       "    <tr>\n",
       "      <th>27452</th>\n",
       "      <td>174</td>\n",
       "      <td>174</td>\n",
       "      <td>174</td>\n",
       "      <td>174</td>\n",
       "      <td>174</td>\n",
       "      <td>175</td>\n",
       "      <td>175</td>\n",
       "      <td>174</td>\n",
       "      <td>173</td>\n",
       "      <td>173</td>\n",
       "      <td>...</td>\n",
       "      <td>121</td>\n",
       "      <td>196</td>\n",
       "      <td>209</td>\n",
       "      <td>208</td>\n",
       "      <td>206</td>\n",
       "      <td>204</td>\n",
       "      <td>203</td>\n",
       "      <td>202</td>\n",
       "      <td>200</td>\n",
       "      <td>200</td>\n",
       "    </tr>\n",
       "    <tr>\n",
       "      <th>27453</th>\n",
       "      <td>177</td>\n",
       "      <td>181</td>\n",
       "      <td>184</td>\n",
       "      <td>185</td>\n",
       "      <td>187</td>\n",
       "      <td>189</td>\n",
       "      <td>190</td>\n",
       "      <td>191</td>\n",
       "      <td>191</td>\n",
       "      <td>190</td>\n",
       "      <td>...</td>\n",
       "      <td>119</td>\n",
       "      <td>56</td>\n",
       "      <td>27</td>\n",
       "      <td>58</td>\n",
       "      <td>102</td>\n",
       "      <td>79</td>\n",
       "      <td>47</td>\n",
       "      <td>64</td>\n",
       "      <td>87</td>\n",
       "      <td>93</td>\n",
       "    </tr>\n",
       "    <tr>\n",
       "      <th>27454</th>\n",
       "      <td>179</td>\n",
       "      <td>180</td>\n",
       "      <td>180</td>\n",
       "      <td>180</td>\n",
       "      <td>182</td>\n",
       "      <td>181</td>\n",
       "      <td>182</td>\n",
       "      <td>183</td>\n",
       "      <td>182</td>\n",
       "      <td>182</td>\n",
       "      <td>...</td>\n",
       "      <td>108</td>\n",
       "      <td>132</td>\n",
       "      <td>170</td>\n",
       "      <td>194</td>\n",
       "      <td>214</td>\n",
       "      <td>203</td>\n",
       "      <td>197</td>\n",
       "      <td>205</td>\n",
       "      <td>209</td>\n",
       "      <td>215</td>\n",
       "    </tr>\n",
       "  </tbody>\n",
       "</table>\n",
       "<p>27455 rows × 784 columns</p>\n",
       "</div>"
      ],
      "text/plain": [
       "      pixel1 pixel2 pixel3 pixel4 pixel5 pixel6 pixel7 pixel8 pixel9 pixel10  \\\n",
       "0        107    118    127    134    139    143    146    150    153     156   \n",
       "1        155    157    156    156    156    157    156    158    158     157   \n",
       "2        187    188    188    187    187    186    187    188    187     186   \n",
       "3        211    211    212    212    211    210    211    210    210     211   \n",
       "4        164    167    170    172    176    179    180    184    185     186   \n",
       "...      ...    ...    ...    ...    ...    ...    ...    ...    ...     ...   \n",
       "27450    189    189    190    190    192    193    193    193    193     194   \n",
       "27451    151    154    157    158    160    161    163    164    166     167   \n",
       "27452    174    174    174    174    174    175    175    174    173     173   \n",
       "27453    177    181    184    185    187    189    190    191    191     190   \n",
       "27454    179    180    180    180    182    181    182    183    182     182   \n",
       "\n",
       "       ... pixel775 pixel776 pixel777 pixel778 pixel779 pixel780 pixel781  \\\n",
       "0      ...      207      207      207      207      206      206      206   \n",
       "1      ...       69      149      128       87       94      163      175   \n",
       "2      ...      202      201      200      199      198      199      198   \n",
       "3      ...      235      234      233      231      230      226      225   \n",
       "4      ...       92      105      105      108      133      163      157   \n",
       "...    ...      ...      ...      ...      ...      ...      ...      ...   \n",
       "27450  ...      132      165       99       77       52      200      234   \n",
       "27451  ...      198      198      198      198      198      196      195   \n",
       "27452  ...      121      196      209      208      206      204      203   \n",
       "27453  ...      119       56       27       58      102       79       47   \n",
       "27454  ...      108      132      170      194      214      203      197   \n",
       "\n",
       "      pixel782 pixel783 pixel784  \n",
       "0          204      203      202  \n",
       "1          103      135      149  \n",
       "2          195      194      195  \n",
       "3          222      229      163  \n",
       "4          163      164      179  \n",
       "...        ...      ...      ...  \n",
       "27450      200      222      225  \n",
       "27451      195      195      194  \n",
       "27452      202      200      200  \n",
       "27453       64       87       93  \n",
       "27454      205      209      215  \n",
       "\n",
       "[27455 rows x 784 columns]"
      ]
     },
     "execution_count": 62,
     "metadata": {},
     "output_type": "execute_result"
    }
   ],
   "source": [
    "X"
   ]
  },
  {
   "cell_type": "markdown",
   "metadata": {},
   "source": [
    "¿Cuál es la distribución de datos de nuestro dataset por clase?\n"
   ]
  },
  {
   "cell_type": "code",
   "execution_count": 91,
   "metadata": {},
   "outputs": [
    {
     "data": {
      "image/png": "[encoded data removed]",
      "text/plain": [
       "<Figure size 1600x900 with 1 Axes>"
      ]
     },
     "metadata": {},
     "output_type": "display_data"
    }
   ],
   "source": [
    "sns.set_theme(style=\"whitegrid\", context=\"notebook\", palette=\"pastel\")\n",
    "fig, ax = plt.subplots(1, 1, figsize=(16, 9))\n",
    "\n",
    "sns.countplot(y, x=\"label\", ax=ax)\n",
    "\n",
    "ax.bar_label(\n",
    "    ax.containers[0],\n",
    "    rotation=45,\n",
    "    label_type=\"edge\",\n",
    "    fmt=lambda x: \"{:.1f}%\".format(x / len(train) * 100),\n",
    ")\n",
    "\n",
    "\n",
    "plt.xlabel(\"Clases\", size=15)\n",
    "plt.ylabel(\"Frecuencia\", size=15)\n",
    "plt.title(\"Frecuencia de clases\")\n",
    "plt.show()"
   ]
  },
  {
   "cell_type": "markdown",
   "metadata": {},
   "source": [
    "En general podemos observar que nuestro dataset NO cuenta con un desequilibrio de claes notorio.\n"
   ]
  },
  {
   "cell_type": "markdown",
   "metadata": {},
   "source": [
    "¿Qué tipo de dato tienen nuestras features?\n"
   ]
  },
  {
   "cell_type": "code",
   "execution_count": 65,
   "metadata": {},
   "outputs": [
    {
     "name": "stdout",
     "output_type": "stream",
     "text": [
      "pixel1      object\n",
      "pixel2      object\n",
      "pixel3      object\n",
      "pixel4      object\n",
      "pixel5      object\n",
      "             ...  \n",
      "pixel780    object\n",
      "pixel781    object\n",
      "pixel782    object\n",
      "pixel783    object\n",
      "pixel784    object\n",
      "Length: 784, dtype: object\n"
     ]
    }
   ],
   "source": [
    "print(X.dtypes)"
   ]
  },
  {
   "cell_type": "markdown",
   "metadata": {},
   "source": [
    "Esto indica la presencia de datos de texto en nuestras columnas, lo cuál NO es bueno porque se supone que solamente estamos guardando variables numéricas.\n"
   ]
  },
  {
   "cell_type": "markdown",
   "metadata": {},
   "source": [
    "¿Tenemos datos faltantes?\n"
   ]
  },
  {
   "cell_type": "code",
   "execution_count": 66,
   "metadata": {},
   "outputs": [
    {
     "name": "stdout",
     "output_type": "stream",
     "text": [
      "False\n"
     ]
    }
   ],
   "source": [
    "print(X.isnull().values.any())"
   ]
  },
  {
   "cell_type": "markdown",
   "metadata": {},
   "source": [
    "No, no tenemos missing values.\n"
   ]
  },
  {
   "cell_type": "markdown",
   "metadata": {},
   "source": [
    "¿Existen datos duplicados?\n"
   ]
  },
  {
   "cell_type": "code",
   "execution_count": 72,
   "metadata": {},
   "outputs": [
    {
     "name": "stdout",
     "output_type": "stream",
     "text": [
      "Empty DataFrame\n",
      "Columns: [label, pixel1, pixel2, pixel3, pixel4, pixel5, pixel6, pixel7, pixel8, pixel9, pixel10, pixel11, pixel12, pixel13, pixel14, pixel15, pixel16, pixel17, pixel18, pixel19, pixel20, pixel21, pixel22, pixel23, pixel24, pixel25, pixel26, pixel27, pixel28, pixel29, pixel30, pixel31, pixel32, pixel33, pixel34, pixel35, pixel36, pixel37, pixel38, pixel39, pixel40, pixel41, pixel42, pixel43, pixel44, pixel45, pixel46, pixel47, pixel48, pixel49, pixel50, pixel51, pixel52, pixel53, pixel54, pixel55, pixel56, pixel57, pixel58, pixel59, pixel60, pixel61, pixel62, pixel63, pixel64, pixel65, pixel66, pixel67, pixel68, pixel69, pixel70, pixel71, pixel72, pixel73, pixel74, pixel75, pixel76, pixel77, pixel78, pixel79, pixel80, pixel81, pixel82, pixel83, pixel84, pixel85, pixel86, pixel87, pixel88, pixel89, pixel90, pixel91, pixel92, pixel93, pixel94, pixel95, pixel96, pixel97, pixel98, pixel99, ...]\n",
      "Index: []\n",
      "\n",
      "[0 rows x 785 columns]\n"
     ]
    }
   ],
   "source": [
    "print(X[X.duplicated()])"
   ]
  },
  {
   "cell_type": "markdown",
   "metadata": {},
   "source": [
    "Sí, sí tenemos.\n"
   ]
  },
  {
   "cell_type": "markdown",
   "metadata": {},
   "source": [
    "## 3: Limpiando el dataset\n"
   ]
  },
  {
   "cell_type": "code",
   "execution_count": 71,
   "metadata": {},
   "outputs": [],
   "source": [
    "X = train.drop([317, 487, 595, 689, 802, 861], axis=0)"
   ]
  },
  {
   "cell_type": "code",
   "execution_count": 73,
   "metadata": {},
   "outputs": [
    {
     "data": {
      "text/html": [
       "<div>\n",
       "<style scoped>\n",
       "    .dataframe tbody tr th:only-of-type {\n",
       "        vertical-align: middle;\n",
       "    }\n",
       "\n",
       "    .dataframe tbody tr th {\n",
       "        vertical-align: top;\n",
       "    }\n",
       "\n",
       "    .dataframe thead th {\n",
       "        text-align: right;\n",
       "    }\n",
       "</style>\n",
       "<table border=\"1\" class=\"dataframe\">\n",
       "  <thead>\n",
       "    <tr style=\"text-align: right;\">\n",
       "      <th></th>\n",
       "      <th>label</th>\n",
       "      <th>pixel1</th>\n",
       "      <th>pixel2</th>\n",
       "      <th>pixel3</th>\n",
       "      <th>pixel4</th>\n",
       "      <th>pixel5</th>\n",
       "      <th>pixel6</th>\n",
       "      <th>pixel7</th>\n",
       "      <th>pixel8</th>\n",
       "      <th>pixel9</th>\n",
       "      <th>...</th>\n",
       "      <th>pixel775</th>\n",
       "      <th>pixel776</th>\n",
       "      <th>pixel777</th>\n",
       "      <th>pixel778</th>\n",
       "      <th>pixel779</th>\n",
       "      <th>pixel780</th>\n",
       "      <th>pixel781</th>\n",
       "      <th>pixel782</th>\n",
       "      <th>pixel783</th>\n",
       "      <th>pixel784</th>\n",
       "    </tr>\n",
       "  </thead>\n",
       "  <tbody>\n",
       "    <tr>\n",
       "      <th>727</th>\n",
       "      <td>19</td>\n",
       "      <td>fwefew</td>\n",
       "      <td>fwefew</td>\n",
       "      <td>fwefew</td>\n",
       "      <td>fwefew</td>\n",
       "      <td>fwefew</td>\n",
       "      <td>fwefew</td>\n",
       "      <td>fwefew</td>\n",
       "      <td>fwefew</td>\n",
       "      <td>fwefew</td>\n",
       "      <td>...</td>\n",
       "      <td>fwefew</td>\n",
       "      <td>fwefew</td>\n",
       "      <td>fwefew</td>\n",
       "      <td>fwefew</td>\n",
       "      <td>fwefew</td>\n",
       "      <td>fwefew</td>\n",
       "      <td>fwefew</td>\n",
       "      <td>fwefew</td>\n",
       "      <td>fwefew</td>\n",
       "      <td>fwefew</td>\n",
       "    </tr>\n",
       "  </tbody>\n",
       "</table>\n",
       "<p>1 rows × 785 columns</p>\n",
       "</div>"
      ],
      "text/plain": [
       "     label  pixel1  pixel2  pixel3  pixel4  pixel5  pixel6  pixel7  pixel8  \\\n",
       "727     19  fwefew  fwefew  fwefew  fwefew  fwefew  fwefew  fwefew  fwefew   \n",
       "\n",
       "     pixel9  ... pixel775 pixel776 pixel777 pixel778 pixel779 pixel780  \\\n",
       "727  fwefew  ...   fwefew   fwefew   fwefew   fwefew   fwefew   fwefew   \n",
       "\n",
       "    pixel781 pixel782 pixel783 pixel784  \n",
       "727   fwefew   fwefew   fwefew   fwefew  \n",
       "\n",
       "[1 rows x 785 columns]"
      ]
     },
     "execution_count": 73,
     "metadata": {},
     "output_type": "execute_result"
    }
   ],
   "source": [
    "X[X[\"pixel1\"] == \"fwefew\"]"
   ]
  },
  {
   "cell_type": "code",
   "execution_count": 74,
   "metadata": {},
   "outputs": [],
   "source": [
    "X = X.drop([727], axis=0)"
   ]
  },
  {
   "cell_type": "code",
   "execution_count": 75,
   "metadata": {},
   "outputs": [
    {
     "name": "stdout",
     "output_type": "stream",
     "text": [
      "      label    pixel1    pixel2    pixel3    pixel4    pixel5    pixel6  \\\n",
      "0  0.011765  0.419608  0.462745  0.498039  0.525490  0.545098  0.560784   \n",
      "1  0.023529  0.607843  0.615686  0.611765  0.611765  0.611765  0.615686   \n",
      "2  0.007843  0.733333  0.737255  0.737255  0.733333  0.733333  0.729412   \n",
      "3  0.007843  0.827451  0.827451  0.831373  0.831373  0.827451  0.823529   \n",
      "4  0.050980  0.643137  0.654902  0.666667  0.674510  0.690196  0.701961   \n",
      "\n",
      "     pixel7    pixel8    pixel9  ...  pixel775  pixel776  pixel777  pixel778  \\\n",
      "0  0.572549  0.588235  0.600000  ...  0.811765  0.811765  0.811765  0.811765   \n",
      "1  0.611765  0.619608  0.619608  ...  0.270588  0.584314  0.501961  0.341176   \n",
      "2  0.733333  0.737255  0.733333  ...  0.792157  0.788235  0.784314  0.780392   \n",
      "3  0.827451  0.823529  0.823529  ...  0.921569  0.917647  0.913725  0.905882   \n",
      "4  0.705882  0.721569  0.725490  ...  0.360784  0.411765  0.411765  0.423529   \n",
      "\n",
      "   pixel779  pixel780  pixel781  pixel782  pixel783  pixel784  \n",
      "0  0.807843  0.807843  0.807843  0.800000  0.796078  0.792157  \n",
      "1  0.368627  0.639216  0.686275  0.403922  0.529412  0.584314  \n",
      "2  0.776471  0.780392  0.776471  0.764706  0.760784  0.764706  \n",
      "3  0.901961  0.886275  0.882353  0.870588  0.898039  0.639216  \n",
      "4  0.521569  0.639216  0.615686  0.639216  0.643137  0.701961  \n",
      "\n",
      "[5 rows x 785 columns]\n",
      "label       float64\n",
      "pixel1      float64\n",
      "pixel2      float64\n",
      "pixel3      float64\n",
      "pixel4      float64\n",
      "             ...   \n",
      "pixel780    float64\n",
      "pixel781    float64\n",
      "pixel782    float64\n",
      "pixel783    float64\n",
      "pixel784    float64\n",
      "Length: 785, dtype: object\n"
     ]
    }
   ],
   "source": [
    "X = X.astype(str).astype(int)\n",
    "\n",
    "X /= 255\n",
    "\n",
    "print(X.head())\n",
    "print(X.dtypes)"
   ]
  },
  {
   "cell_type": "markdown",
   "metadata": {},
   "source": [
    "Perfecto, nuestros datos ya están normalizados y ahora todos son datos numéricos.\n"
   ]
  }
 ],
 "metadata": {
  "kernelspec": {
   "display_name": "template",
   "language": "python",
   "name": "python3"
  },
  "language_info": {
   "codemirror_mode": {
    "name": "ipython",
    "version": 3
   },
   "file_extension": ".py",
   "mimetype": "text/x-python",
   "name": "python",
   "nbconvert_exporter": "python",
   "pygments_lexer": "ipython3",
   "version": "3.11.8"
  }
 },
 "nbformat": 4,
 "nbformat_minor": 2
}
